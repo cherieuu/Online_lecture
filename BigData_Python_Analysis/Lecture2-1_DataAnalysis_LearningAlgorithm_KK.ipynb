{
 "cells": [
  {
   "cell_type": "markdown",
   "metadata": {},
   "source": [
    "# 학습종류와 알고리즘(Learning Style and Algorithms)\n",
    "\n",
    "<center><img src='Image/Analysis_Process.png' width='800'></center>\n",
    "\n",
    "- **학습(Learning)?**\n",
    "> - **과거: 사람의 패턴을 모방하여 컴퓨터를 사람처럼 만들려고 노력**\n",
    ">> - 사람의 패턴이나 정답을 수학적으로 모델링(알고리즘화)\n",
    ">> - 데이터 보다는 \"사람의 패턴\"을 수학적으로 표현하여 문제를 해결\n",
    "> - **현재: 사람의 학습방식을 모방하여 컴퓨터가 사람처럼 학습하도록 노력**\n",
    ">> - 사람의 패턴이나 정답을 찾지 않고 뇌의 작동방식을 모델링(알고리즘화)\n",
    ">> - 사람의 패턴은 알 필요 없이 \"데이터\"를 컴퓨터에게 지속적으로 전달(학습)하면 스스로 문제를 해결\n",
    "\n",
    "---\n",
    "\n",
    "<center><img src='Image/Basic_InputOutput.PNG' width='700'></center>\n",
    "<center><img src='Image/DataSplit_Concept1.png' width='700'></center>"
   ]
  },
  {
   "cell_type": "markdown",
   "metadata": {},
   "source": [
    "## 학습종류\n",
    "\n",
    "> **알고리즘들은 크게 3~4가지 문제들을 해결하기 위해 만들어짐**  \n",
    "> **내가 풀어야 할 문제가 무엇인지 알면 분석설정과 해결은 수동적인 작업(단순)**  \n",
    ">> 1) 문제가 어디에 속하는지 -> \"분석설정(문제정의/해결방향)\" 가능  \n",
    ">> 2) 알고리즘의 입력은 무엇인지 -> \"데이터준비(전처리)\" 가능     \n",
    ">> 3) 알고리즘의 출력은 무엇인지 -> \"결과해석(설명/검증)\" 가능   \n",
    "\n",
    "- 기계학습의 3가지 분류:  \n",
    "<center><img src='Image/ML_Type_Application_Circle.jpg' width='600'></center>  \n",
    "<center><img src='Image/ML_Type_Glance.jpg' width='600'></center>\n",
    "\n",
    "---\n",
    "\n",
    "- 기계학습의 4가지 분류:\n",
    "<center><img src='Image/ML_Type_Application.png' width='600'></center>  \n",
    "\n",
    "| - | Supervised Learning | Unsupervised Learning | Semi-supervised Learning |\n",
    "|---------------------|---------------------------------------------------------------------------------------------------------------------------------------------------|-----------------------------------------------------------------------------------------------------------------------------------------------------|--------------------------------------------------------------------------------------------------------------------------------------------------------|\n",
    "| - | <img src='Image/Supervised-Learning-Algorithms.png' width='150'> | <img src='Image/Unsupervised-Learning-Algorithms.png' width='150'> | <img src='Image/Semi-supervised-Learning-Algorithms.png' width='150'> |\n",
    "| Input Data | labeled | unlabeled | labeled + unlabeled |\n",
    "| Output Result | labeled | unlabeled | labeled + unlabeled |\n"
   ]
  },
  {
   "cell_type": "markdown",
   "metadata": {},
   "source": [
    "## 학습종류에 따른 알고리즘[(Summary)](https://en.wikipedia.org/wiki/Outline_of_machine_learning)"
   ]
  },
  {
   "cell_type": "markdown",
   "metadata": {},
   "source": [
    "### Supervised Learning\n",
    "\n",
    "| Regression Algorithms | Instance-based Algorithms | Regularization Algorithms | Decision Tree Algorithms | Bayesian Algorithms | Artificial Neural Network Algorithms |\n",
    "|------------------------------------------------------------------------------------------------------------------------------------------|----------------------------------------------------------------------------------------------------------------------------------------------|----------------------------------------------------------------------------------------------------------------------------------------------|---------------------------------------------------------------------------------------------------------------------------------------------|----------------------------------------------------------------------------------------------------------------------------------------|---------------------------------------------------------------------------------------------------------------------------------------------------------|\n",
    "| <img src='Image/Regression-Algorithms.png' width='150'> | <img src='Image/Instance-based-Algorithms.png' width='150'> | <img src='Image/Regularization-Algorithms.png' width='150'> | <img src='Image/Decision-Tree-Algorithms.png' width='150'> | <img src='Image/Bayesian-Algorithms.png' width='150'> | <img src='Image/Artificial-Neural-Network-Algorithms.png' width='150'> |\n",
    "| Ordinary Least Squares Regression (OLSR) | k-Nearest Neighbor (kNN) | Ridge Regression | Classification and Regression Tree (CART) | Naive Bayes | Perceptron |\n",
    "| Linear Regression | Learning Vector Quantization (LVQ) | Least Absolute Shrinkage and Selection Operator (LASSO) | Iterative Dichotomiser 3 (ID3) | Gaussian Naive Bayes | Back-Propagation |\n",
    "| Logistic Regression | Self-Organizing Map (SOM) | Elastic Net | C4.5 and C5.0 (different versions of a powerful approach) | Multinomial Naive Bayes | Hopfield Network |\n",
    "| Stepwise Regression | Locally Weighted Learning (LWL) | Least-Angle Regression (LARS) | Chi-squared Automatic Interaction Detection (CHAID) | Averaged One-Dependence Estimators (AODE) | Radial Basis Function Network (RBFN) |\n",
    "| Multivariate Adaptive Regression Splines (MARS) | - | - | Decision Stump | Bayesian Belief Network (BBN) | - |\n",
    "| Locally Estimated Scatterplot Smoothing (LOESS) | - | - | M5 | Bayesian Network (BN) | - |\n",
    "| - | - | - | Conditional Decision Trees | - | - |\n"
   ]
  },
  {
   "cell_type": "markdown",
   "metadata": {},
   "source": [
    "### Unsupervised Learning  \n",
    "\n",
    "| Clustering Algorithms | Association Rule Learning Algorithms | Dimensionality Reduction Algorithms | Ensemble Algorithms | Deep Learning Algorithms |\n",
    "|------------------------------------------------------------------------------------------------------------------------------------------|---------------------------------------------------------------------------------------------------------------------------------------------------------|-----------------------------------------------------------------------------------------------------------------------------------------------------|----------------------------------------------------------------------------------------------------------------------------------------|---------------------------------------------------------------------------------------------------------------------------------------------|\n",
    "| <img src='Image/Clustering-Algorithms.png' width='150'> | <img src='Image/Assoication-Rule-Learning-Algorithms.png' width='150'> | <img src='Image/Dimensional-Reduction-Algorithms.png' width='150'> | <img src='Image/Ensemble-Algorithms.png' width='150'> | <img src='Image/Deep-Learning-Algorithms.png' width='150'> |\n",
    "| k-Means | Apriori algorithm | Principal Component Analysis (PCA) | Boosting | Deep Boltzmann Machine (DBM) |\n",
    "| k-Medians | Eclat algorithm | Principal Component Regression (PCR) | Bootstrapped Aggregation (Bagging) | Deep Belief Networks (DBN) |\n",
    "| Expectation Maximisation (EM) | - | Partial Least Squares Regression (PLSR) | AdaBoost | Convolutional Neural Network (CNN) |\n",
    "| Hierarchical Clustering | - | Sammon Mapping | Stacked Generalization (blending) | Stacked Auto-Encoders |\n",
    "| - | - | Multidimensional Scaling (MDS) | Gradient Boosting Machines (GBM) | - |\n",
    "| - | - | Projection Pursuit | Gradient Boosted Regression Trees (GBRT) | - |\n",
    "| - | - | Linear Discriminant Analysis (LDA) | Random Forest | - |\n",
    "| - | - | Mixture Discriminant Analysis (MDA) | - | - |\n",
    "| - | - | Quadratic Discriminant Analysis (QDA) | - | - |\n",
    "| - | - | Flexible Discriminant Analysis (FDA) | - | - |\n"
   ]
  },
  {
   "cell_type": "markdown",
   "metadata": {},
   "source": [
    "### 알고리즘의 정확성 vs. 설명력\n",
    "\n",
    "- **알고리즘 방향의 현실:**\n",
    "\n",
    "> **\"알고리즘을 만든다는 건..\"**     \n",
    ">\n",
    "> (1) 사람이나 사물 또는 시스템이 어떻게 동작하는지 이해의 과정    \n",
    "> (2) 사람이나 사물 또는 시스템이 만들어내는 데이터를 체계적으로 요약하는 과정    \n",
    "> (3) 미래의 예측값과 실제값의 비교로 사람/사물/시스템을 일반화하는 과정    \n",
    "> (4) 일반화된 사람/사물/시스템으로 더욱 효과적이고 체계적인 의사결정을 위함    \n",
    "\n",
    "> **\"현실은 우리 자신을 포함한 환경을 이해하는 용도((1),(2),(3))보다 빠른 의사결정을 위한 방향(4)으로 한정되어 개발되고 있으며 특히 자동화에 많은 부분이 집중\"**\n",
    "> - 우리 사회 이해를 위한 사회학/교육/철할/경제/경영 등은 ((1),(2),(3))에 집중\n",
    "> - 컴퓨터 공학과 같은 자동화나 인공지능 학문은 (4)에 집중\n",
    "> - 사람의 출신학문(?)만 보아도 분석에 대한 관점 차이가 존재\n",
    "\n",
    "\n",
    "- **\"정확성 vs. 설명력\": 반비례 관계**\n",
    "> - 대부분의 기계학습 및 딥러닝 모델은 통계분포에 기반하지 않기 때문에 점추정 알고리즘  \n",
    "> - 신뢰구간의 정확성은 확신 할 수 없지만 점추정 보다 다양한 해석을 가능하게 함\n",
    ">>**설명력 최근 연구동향:**   \n",
    ">> - [LIME](https://blog.fastforwardlabs.com/2017/09/01/LIME-for-couples.html)   \n",
    ">> - [DARPA](https://bdtechtalks.com/2019/01/10/darpa-xai-explainable-artificial-intelligence/)   \n",
    "<center><img src='Image/Performance_Explanability.png' width='600'></center>\n",
    "\n",
    "- **분석단계 비교: 회귀분석(선형) vs 딥러닝(비선형)**\n",
    "\n",
    "> - **회귀분석:** 함수의 선형성을 추정하는 \"설명력\"이 높은 알고리즘\n",
    "> - **딥러닝:** 함수의 비선형성을 추정하는 \"정확성\"이 높은 알고리즘\n",
    "\n",
    "| -                            | Linear Model                                            | Neural Network Model                                   |\n",
    "|----------------------------- |:-------------------------------------------------------- |:------------------------------------------------------- |\n",
    "| **모델특징**                 | -                                                       | -                                                      |\n",
    "| 분석목적                     | 선형성파악(설명가능)                                    | 비선형성파악(설명불가)                                 |\n",
    "| 이론적(수학적) 근거          | 존재                                                    | 미존재                                                 |\n",
    "| **분석단계 특징(전처리)**    | -                                                       | -                                                      |\n",
    "| 데이터 로딩                  | <span style=\"color:blue\">Panel Data</span>              | <span style=\"color:red\">다양(운이좋으면 Panel)</span>  |\n",
    "| 데이터 빈칸 채우기/삭제      | <span style=\"color:red\">분석필요</span>                 | <span style=\"color:red\">분석필요</span>                |\n",
    "| 데이터 컬럼 추가/삭제        | <span style=\"color:red\">분석필요+민감</span>            | <span style=\"color:red\">분석필요+덜민감</span>         |\n",
    "| 데이터 분리                  | <span style=\"color:blue\">Train/Validate/Test</span>     | <span style=\"color:blue\">Train/Validate/Test</span>    |\n",
    "| 데이터 스케일링              | <span style=\"color:red\">분석필요/미필요</span>          | <span style=\"color:red\">분석필요</span>                |\n",
    "| **분석단계 특징(모델링)**    | -                                                       | -                                                      |\n",
    "| 입력 확인 및 변환            | <span style=\"color:blue\">Panel Data</span>              | <span style=\"color:red\">다양(정해지지 않음)</span>     |\n",
    "| 데이터 모델연결              | <span style=\"color:blue\">자동화</span>                  | <span style=\"color:red\">반자동화</span>                |\n",
    "| 비용함수(Cost)               | <span style=\"color:blue\">최소제곱에러(MSE)</span>       | <span style=\"color:red\">다양</span>                    |\n",
    "| 추정함수(Optimizer)          | <span style=\"color:blue\">고정(미분1회 대체가능)</span>  | <span style=\"color:red\">다양(미분지속)</span>          |\n",
    "| **분석단계 특징(검증)**      | -                                                       | -                                                      |\n",
    "| 정확성지표                   | <span style=\"color:red\">다양</span>                     | <span style=\"color:red\">다양</span>                    |\n",
    "| 잔차진단활용                 | <span style=\"color:red\">가능(분석필요)</span>           | <span style=\"color:blue\">불가</span>                   |\n",
    "| **분석단계 특징(결과해석)**  | -                                                       | -                                                      |\n",
    "| 관계성 시각화/영향력 해석    | <span style=\"color:red\">가능(분석필요)</span>           | <span style=\"color:blue\">불가</span>                   |    \n"
   ]
  },
  {
   "cell_type": "markdown",
   "metadata": {},
   "source": [
    "# 학습 알고리즘을 위한 분석 주 패키지(Library)\n",
    "\n",
    "> - 머신러닝 뿐만 아니라 모든 종류의 데이터 분석에 공통적으로 많이 사용되는 파이썬 패키지를 소개\n",
    "> - 자주 사용하는 패키지들은 짧은 별명(alias)으로 import하여 사용하는 편\n",
    "\n",
    "<!-- https://datascienceschool.net/03%20machine%20learning/01.02%20%EB%A8%B8%EC%8B%A0%EB%9F%AC%EB%8B%9D%EC%9A%A9%20%ED%8C%8C%EC%9D%B4%EC%8D%AC%20%ED%8C%A8%ED%82%A4%EC%A7%80.html -->"
   ]
  },
  {
   "cell_type": "markdown",
   "metadata": {},
   "source": [
    "## 기본 패키지"
   ]
  },
  {
   "cell_type": "markdown",
   "metadata": {},
   "source": [
    "### \"numpy\"(넘파이)\n",
    "\n",
    "> **선형대수 또는 수치해석 등의 계산기능 제공하며 수학 연산에서 가장 기본**\n",
    "> - 설치: \n",
    "> ```python\n",
    "> pip install numpy\n",
    "> ```\n",
    "> - 로딩:\n",
    "> ```python\n",
    "> import numpy as np\n",
    "> ```"
   ]
  },
  {
   "cell_type": "markdown",
   "metadata": {},
   "source": [
    "### \"pandas\"(판다스)\n",
    "\n",
    "> **테이블 형태의 데이터를 다루는 DataFrame 자료형 제공하며 데이터의 탐색과 정리에 유용한 필수 패키지**\n",
    "> - R의 데이터프레임을 Python에 제공하는 목적이었으나 기능 추가\n",
    "> - 설치: \n",
    "> ```python\n",
    "> pip install pandas\n",
    "> ```\n",
    "> - 로딩:\n",
    "> ```python\n",
    "> import pandas as pd\n",
    "> ```"
   ]
  },
  {
   "cell_type": "markdown",
   "metadata": {},
   "source": [
    "### \"matplotlib\"(맷플롯립)\n",
    "\n",
    "> **각종 그래프나 차트 등을 그리는 시각화 기능 제공**\n",
    "> - 설치: \n",
    "> ```python\n",
    "> pip install matplotlib\n",
    "> ```\n",
    "> - 로딩:\n",
    "> ```python\n",
    "> import matplotlib.pyplot as plt\n",
    "> ```"
   ]
  },
  {
   "cell_type": "markdown",
   "metadata": {},
   "source": [
    "### \"seaborn\"(시본)\n",
    "\n",
    "> **matplotlib에서 지원하지 않는 고급 통계 차트 시각화**\n",
    "> - 설치: \n",
    "> ```python\n",
    "> pip install seaborn\n",
    "> ```\n",
    "> - 로딩:\n",
    "> ```python\n",
    "> import seaborn as sns\n",
    "> ```"
   ]
  },
  {
   "cell_type": "markdown",
   "metadata": {},
   "source": [
    "### \"scipy\"(사이파이)\n",
    "\n",
    "> **고급 수학함수, 수치적 미적분, 미분방정식 계산, 최적화 등의 과학기술 계산기능**\n",
    "> - 설치: \n",
    "> ```python\n",
    "> pip install scipy\n",
    "> ```\n",
    "> - 로딩:\n",
    "> ```python\n",
    "> import scipy as sp\n",
    "> ```"
   ]
  },
  {
   "cell_type": "markdown",
   "metadata": {},
   "source": [
    "## 분석 중심 패키지"
   ]
  },
  {
   "cell_type": "markdown",
   "metadata": {},
   "source": [
    "###  \"statsmodels\"(스탯츠모델즈)\n",
    "\n",
    "> **R-style 모형 기술을 가능하게 하는 patsy 패키지를 포함하고 있어 R에서만 가능했던 분석을 그대로 파이썬에서 이용가능**\n",
    "> - 예제 데이터셋\n",
    "> - 검정 및 추정\n",
    "> - 선형/로지스틱/강건/일반화 회귀분석\n",
    "> - 혼합효과모형\n",
    "> - 이산종속변수\n",
    "> - 요인분석\n",
    "> - 생존분석\n",
    "> - 시계열 분석\n",
    "> - 상태공간모형\n",
    "\n",
    "> - 설치: \n",
    "> ```python\n",
    "> pip install statsmodels\n",
    "> ```\n",
    "> - 로딩:\n",
    "> ```python\n",
    "> import statsmodels.api as sm\n",
    "> ```\n"
   ]
  },
  {
   "cell_type": "markdown",
   "metadata": {},
   "source": [
    "### \"sklearn\"(싸이킷런)\n",
    "\n",
    "> **다양한 머신러닝 모델(알고리즘)을 하나의 패키지로 제공하는 필수 패키지**\n",
    "> - 예제 데이터셋\n",
    "> - 데이터 전처리\n",
    ">> - 스케일링\n",
    ">> - 누락데이터 처리\n",
    ">> - 데이터 분리 및 교차검증\n",
    ">> - Feature Selection\n",
    "> - 지도 학습(Supervised learning)\n",
    ">> - 회귀분석\n",
    ">> - LDA/QDA\n",
    ">> - Gauss Process\n",
    ">> - Naive Bayes\n",
    ">> - SVD\n",
    ">> - Bagging/Boosting\n",
    ">> - SGD, Perceptron\n",
    "> - 비지도 학습(Unsupervised learning)\n",
    ">> - Clustering\n",
    ">> - PCA\n",
    ">> - Gauss Mixture\n",
    "> - 하이퍼파라미터 및 성능 최적화\n",
    "> - 모형 검증 및 평가\n",
    "\n",
    "> - 설치: \n",
    "> ```python\n",
    "> pip install sklearn\n",
    "> ```\n",
    "> - 로딩:\n",
    "> ```python\n",
    "> import sklearn as sk\n",
    "> ```\n"
   ]
  },
  {
   "cell_type": "code",
   "execution_count": 1,
   "metadata": {
    "ExecuteTime": {
     "end_time": "2021-04-07T06:20:12.824726Z",
     "start_time": "2021-04-07T06:19:48.073876Z"
    }
   },
   "outputs": [
    {
     "name": "stdout",
     "output_type": "stream",
     "text": [
      "Requirement already satisfied: numpy in c:\\users\\kk\\anaconda3\\lib\\site-packages (1.19.5)\n",
      "Requirement already satisfied: pandas in c:\\users\\kk\\anaconda3\\lib\\site-packages (1.1.3)\n",
      "Requirement already satisfied: numpy>=1.15.4 in c:\\users\\kk\\anaconda3\\lib\\site-packages (from pandas) (1.19.5)\n",
      "Requirement already satisfied: python-dateutil>=2.7.3 in c:\\users\\kk\\anaconda3\\lib\\site-packages (from pandas) (2.8.1)\n",
      "Requirement already satisfied: pytz>=2017.2 in c:\\users\\kk\\appdata\\roaming\\python\\python38\\site-packages (from pandas) (2019.3)\n",
      "Requirement already satisfied: six>=1.5 in c:\\users\\kk\\anaconda3\\lib\\site-packages (from python-dateutil>=2.7.3->pandas) (1.15.0)\n",
      "Requirement already satisfied: matplotlib in c:\\users\\kk\\anaconda3\\lib\\site-packages (3.3.2)\n",
      "Requirement already satisfied: cycler>=0.10 in c:\\users\\kk\\anaconda3\\lib\\site-packages (from matplotlib) (0.10.0)\n",
      "Requirement already satisfied: kiwisolver>=1.0.1 in c:\\users\\kk\\anaconda3\\lib\\site-packages (from matplotlib) (1.3.0)\n",
      "Requirement already satisfied: pillow>=6.2.0 in c:\\users\\kk\\anaconda3\\lib\\site-packages (from matplotlib) (8.0.1)\n",
      "Requirement already satisfied: pyparsing!=2.0.4,!=2.1.2,!=2.1.6,>=2.0.3 in c:\\users\\kk\\anaconda3\\lib\\site-packages (from matplotlib) (2.4.7)\n",
      "Requirement already satisfied: numpy>=1.15 in c:\\users\\kk\\anaconda3\\lib\\site-packages (from matplotlib) (1.19.5)\n",
      "Requirement already satisfied: python-dateutil>=2.1 in c:\\users\\kk\\anaconda3\\lib\\site-packages (from matplotlib) (2.8.1)\n",
      "Requirement already satisfied: certifi>=2020.06.20 in c:\\users\\kk\\anaconda3\\lib\\site-packages (from matplotlib) (2020.6.20)\n",
      "Requirement already satisfied: six in c:\\users\\kk\\anaconda3\\lib\\site-packages (from cycler>=0.10->matplotlib) (1.15.0)\n",
      "Requirement already satisfied: seaborn in c:\\users\\kk\\anaconda3\\lib\\site-packages (0.11.0)\n",
      "Requirement already satisfied: matplotlib>=2.2 in c:\\users\\kk\\anaconda3\\lib\\site-packages (from seaborn) (3.3.2)\n",
      "Requirement already satisfied: scipy>=1.0 in c:\\users\\kk\\anaconda3\\lib\\site-packages (from seaborn) (1.5.2)\n",
      "Requirement already satisfied: numpy>=1.15 in c:\\users\\kk\\anaconda3\\lib\\site-packages (from seaborn) (1.19.5)\n",
      "Requirement already satisfied: pandas>=0.23 in c:\\users\\kk\\anaconda3\\lib\\site-packages (from seaborn) (1.1.3)\n",
      "Requirement already satisfied: kiwisolver>=1.0.1 in c:\\users\\kk\\anaconda3\\lib\\site-packages (from matplotlib>=2.2->seaborn) (1.3.0)\n",
      "Requirement already satisfied: certifi>=2020.06.20 in c:\\users\\kk\\anaconda3\\lib\\site-packages (from matplotlib>=2.2->seaborn) (2020.6.20)\n",
      "Requirement already satisfied: python-dateutil>=2.1 in c:\\users\\kk\\anaconda3\\lib\\site-packages (from matplotlib>=2.2->seaborn) (2.8.1)\n",
      "Requirement already satisfied: cycler>=0.10 in c:\\users\\kk\\anaconda3\\lib\\site-packages (from matplotlib>=2.2->seaborn) (0.10.0)\n",
      "Requirement already satisfied: pillow>=6.2.0 in c:\\users\\kk\\anaconda3\\lib\\site-packages (from matplotlib>=2.2->seaborn) (8.0.1)\n",
      "Requirement already satisfied: pyparsing!=2.0.4,!=2.1.2,!=2.1.6,>=2.0.3 in c:\\users\\kk\\anaconda3\\lib\\site-packages (from matplotlib>=2.2->seaborn) (2.4.7)\n",
      "Requirement already satisfied: six in c:\\users\\kk\\anaconda3\\lib\\site-packages (from cycler>=0.10->matplotlib>=2.2->seaborn) (1.15.0)\n",
      "Requirement already satisfied: pytz>=2017.2 in c:\\users\\kk\\appdata\\roaming\\python\\python38\\site-packages (from pandas>=0.23->seaborn) (2019.3)\n",
      "Requirement already satisfied: scipy in c:\\users\\kk\\anaconda3\\lib\\site-packages (1.5.2)\n",
      "Requirement already satisfied: numpy>=1.14.5 in c:\\users\\kk\\anaconda3\\lib\\site-packages (from scipy) (1.19.5)\n",
      "Requirement already satisfied: statsmodels in c:\\users\\kk\\appdata\\roaming\\python\\python38\\site-packages (0.12.1)\n",
      "Requirement already satisfied: pandas>=0.21 in c:\\users\\kk\\anaconda3\\lib\\site-packages (from statsmodels) (1.1.3)\n",
      "Requirement already satisfied: patsy>=0.5 in c:\\users\\kk\\anaconda3\\lib\\site-packages (from statsmodels) (0.5.1)\n",
      "Requirement already satisfied: scipy>=1.1 in c:\\users\\kk\\anaconda3\\lib\\site-packages (from statsmodels) (1.5.2)\n",
      "Requirement already satisfied: numpy>=1.15 in c:\\users\\kk\\anaconda3\\lib\\site-packages (from statsmodels) (1.19.5)\n",
      "Requirement already satisfied: pytz>=2017.2 in c:\\users\\kk\\appdata\\roaming\\python\\python38\\site-packages (from pandas>=0.21->statsmodels) (2019.3)\n",
      "Requirement already satisfied: python-dateutil>=2.7.3 in c:\\users\\kk\\anaconda3\\lib\\site-packages (from pandas>=0.21->statsmodels) (2.8.1)\n",
      "Requirement already satisfied: six in c:\\users\\kk\\anaconda3\\lib\\site-packages (from patsy>=0.5->statsmodels) (1.15.0)\n",
      "Requirement already satisfied: sklearn in c:\\users\\kk\\anaconda3\\lib\\site-packages (0.0)\n",
      "Requirement already satisfied: scikit-learn in c:\\users\\kk\\anaconda3\\lib\\site-packages (from sklearn) (0.23.2)\n",
      "Requirement already satisfied: scipy>=0.19.1 in c:\\users\\kk\\anaconda3\\lib\\site-packages (from scikit-learn->sklearn) (1.5.2)\n",
      "Requirement already satisfied: numpy>=1.13.3 in c:\\users\\kk\\anaconda3\\lib\\site-packages (from scikit-learn->sklearn) (1.19.5)\n",
      "Requirement already satisfied: joblib>=0.11 in c:\\users\\kk\\anaconda3\\lib\\site-packages (from scikit-learn->sklearn) (0.17.0)\n",
      "Requirement already satisfied: threadpoolctl>=2.0.0 in c:\\users\\kk\\anaconda3\\lib\\site-packages (from scikit-learn->sklearn) (2.1.0)\n"
     ]
    }
   ],
   "source": [
    "!pip install numpy\n",
    "!pip install pandas\n",
    "!pip install matplotlib\n",
    "!pip install seaborn\n",
    "!pip install scipy\n",
    "!pip install statsmodels\n",
    "!pip install sklearn\n",
    "\n",
    "import numpy as np\n",
    "import pandas as pd\n",
    "import matplotlib.pyplot as plt\n",
    "import seaborn as sns\n",
    "import scipy as sp\n",
    "import statsmodels.api as sm\n",
    "import sklearn as sk"
   ]
  }
 ],
 "metadata": {
  "hide_input": false,
  "kernelspec": {
   "display_name": "Python 3",
   "language": "python",
   "name": "python3"
  },
  "language_info": {
   "codemirror_mode": {
    "name": "ipython",
    "version": 3
   },
   "file_extension": ".py",
   "mimetype": "text/x-python",
   "name": "python",
   "nbconvert_exporter": "python",
   "pygments_lexer": "ipython3",
   "version": "3.8.5"
  },
  "toc": {
   "base_numbering": 1,
   "nav_menu": {},
   "number_sections": true,
   "sideBar": true,
   "skip_h1_title": false,
   "title_cell": "Table of Contents",
   "title_sidebar": "Contents",
   "toc_cell": false,
   "toc_position": {
    "height": "calc(100% - 180px)",
    "left": "10px",
    "top": "150px",
    "width": "372px"
   },
   "toc_section_display": true,
   "toc_window_display": true
  },
  "toc-autonumbering": true,
  "varInspector": {
   "cols": {
    "lenName": 16,
    "lenType": 16,
    "lenVar": 40
   },
   "kernels_config": {
    "python": {
     "delete_cmd_postfix": "",
     "delete_cmd_prefix": "del ",
     "library": "var_list.py",
     "varRefreshCmd": "print(var_dic_list())"
    },
    "r": {
     "delete_cmd_postfix": ") ",
     "delete_cmd_prefix": "rm(",
     "library": "var_list.r",
     "varRefreshCmd": "cat(var_dic_list()) "
    }
   },
   "types_to_exclude": [
    "module",
    "function",
    "builtin_function_or_method",
    "instance",
    "_Feature"
   ],
   "window_display": false
  }
 },
 "nbformat": 4,
 "nbformat_minor": 4
}
