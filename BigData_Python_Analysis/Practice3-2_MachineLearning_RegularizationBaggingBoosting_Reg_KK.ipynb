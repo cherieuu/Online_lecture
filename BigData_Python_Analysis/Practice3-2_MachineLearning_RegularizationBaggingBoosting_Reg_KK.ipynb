{
 "cells": [
  {
   "cell_type": "markdown",
   "metadata": {},
   "source": [
    "# Import Library: 분석에 사용할 모듈 설치\n",
    "**1. Import Library**"
   ]
  },
  {
   "cell_type": "code",
   "execution_count": 1,
   "metadata": {
    "ExecuteTime": {
     "end_time": "2021-04-25T08:14:17.987184Z",
     "start_time": "2021-04-25T08:14:09.711492Z"
    }
   },
   "outputs": [
    {
     "name": "stdout",
     "output_type": "stream",
     "text": [
      "Requirement already satisfied: pip in c:\\users\\kk\\appdata\\roaming\\python\\python38\\site-packages (21.1)\n"
     ]
    },
    {
     "name": "stderr",
     "output_type": "stream",
     "text": [
      "WARNING: Value for scheme.headers does not match. Please report this to <https://github.com/pypa/pip/issues/9617>\n",
      "distutils: C:\\Users\\KK\\AppData\\Roaming\\Python\\Python38\\Include\\UNKNOWN\n",
      "sysconfig: C:\\Users\\KK\\AppData\\Roaming\\Python\\Python38\\Include\n",
      "WARNING: Additional context:\n",
      "user = True\n",
      "home = None\n",
      "root = None\n",
      "prefix = None\n"
     ]
    },
    {
     "name": "stdout",
     "output_type": "stream",
     "text": [
      "Requirement already satisfied: xgboost in c:\\users\\kk\\anaconda3\\lib\\site-packages (1.4.1)\n",
      "Requirement already satisfied: scipy in c:\\users\\kk\\anaconda3\\lib\\site-packages (from xgboost) (1.5.2)\n",
      "Requirement already satisfied: numpy in c:\\users\\kk\\anaconda3\\lib\\site-packages (from xgboost) (1.19.5)\n"
     ]
    },
    {
     "name": "stderr",
     "output_type": "stream",
     "text": [
      "WARNING: Value for scheme.headers does not match. Please report this to <https://github.com/pypa/pip/issues/9617>\n",
      "distutils: C:\\Users\\KK\\AppData\\Roaming\\Python\\Python38\\Include\\UNKNOWN\n",
      "sysconfig: C:\\Users\\KK\\AppData\\Roaming\\Python\\Python38\\Include\n",
      "WARNING: Additional context:\n",
      "user = True\n",
      "home = None\n",
      "root = None\n",
      "prefix = None\n"
     ]
    },
    {
     "name": "stdout",
     "output_type": "stream",
     "text": [
      "Requirement already satisfied: lightgbm in c:\\users\\kk\\anaconda3\\lib\\site-packages (3.2.1)\n",
      "Requirement already satisfied: scipy in c:\\users\\kk\\anaconda3\\lib\\site-packages (from lightgbm) (1.5.2)\n",
      "Requirement already satisfied: wheel in c:\\users\\kk\\appdata\\roaming\\python\\python38\\site-packages (from lightgbm) (0.36.2)\n",
      "Requirement already satisfied: numpy in c:\\users\\kk\\anaconda3\\lib\\site-packages (from lightgbm) (1.19.5)\n",
      "Requirement already satisfied: scikit-learn!=0.22.0 in c:\\users\\kk\\anaconda3\\lib\\site-packages (from lightgbm) (0.23.2)\n",
      "Requirement already satisfied: threadpoolctl>=2.0.0 in c:\\users\\kk\\anaconda3\\lib\\site-packages (from scikit-learn!=0.22.0->lightgbm) (2.1.0)\n",
      "Requirement already satisfied: joblib>=0.11 in c:\\users\\kk\\anaconda3\\lib\\site-packages (from scikit-learn!=0.22.0->lightgbm) (0.17.0)\n"
     ]
    },
    {
     "name": "stderr",
     "output_type": "stream",
     "text": [
      "WARNING: Value for scheme.headers does not match. Please report this to <https://github.com/pypa/pip/issues/9617>\n",
      "distutils: C:\\Users\\KK\\AppData\\Roaming\\Python\\Python38\\Include\\UNKNOWN\n",
      "sysconfig: C:\\Users\\KK\\AppData\\Roaming\\Python\\Python38\\Include\n",
      "WARNING: Additional context:\n",
      "user = True\n",
      "home = None\n",
      "root = None\n",
      "prefix = None\n"
     ]
    }
   ],
   "source": [
    "!python -m pip install --user --upgrade pip\n",
    "!pip install xgboost --user --upgrade\n",
    "!pip install lightgbm --user --upgrade"
   ]
  },
  {
   "cell_type": "code",
   "execution_count": 2,
   "metadata": {
    "ExecuteTime": {
     "end_time": "2021-04-25T08:14:20.638063Z",
     "start_time": "2021-04-25T08:14:17.989148Z"
    }
   },
   "outputs": [],
   "source": [
    "# Ignore the warnings\n",
    "import warnings\n",
    "# warnings.filterwarnings('always')\n",
    "warnings.filterwarnings('ignore')\n",
    "\n",
    "# System related and data input controls\n",
    "import os\n",
    "\n",
    "# Data manipulation and visualization\n",
    "import pandas as pd\n",
    "pd.options.display.float_format = '{:,.2f}'.format\n",
    "pd.options.display.max_rows = 20\n",
    "pd.options.display.max_columns = 20\n",
    "import numpy as np\n",
    "import matplotlib.pyplot as plt\n",
    "import seaborn as sns\n",
    "from sklearn import preprocessing\n",
    "\n",
    "# Modeling algorithms\n",
    "# General\n",
    "import statsmodels.api as sm\n",
    "from statsmodels.stats.outliers_influence import variance_inflation_factor\n",
    "from scipy import stats\n",
    "\n",
    "# Regression\n",
    "from sklearn.linear_model import LinearRegression, Ridge, Lasso, ElasticNet\n",
    "from sklearn.kernel_ridge import KernelRidge\n",
    "from sklearn.neighbors import KNeighborsRegressor\n",
    "from sklearn.svm import SVR\n",
    "from sklearn.tree import DecisionTreeRegressor\n",
    "from sklearn.ensemble import RandomForestRegressor, BaggingRegressor, GradientBoostingRegressor, AdaBoostRegressor\n",
    "from xgboost import XGBRegressor\n",
    "from lightgbm import LGBMRegressor\n",
    "\n",
    "# Model selection\n",
    "from sklearn.model_selection import train_test_split\n",
    "\n",
    "# Evaluation metrics\n",
    "from sklearn import metrics"
   ]
  },
  {
   "cell_type": "code",
   "execution_count": 3,
   "metadata": {
    "ExecuteTime": {
     "end_time": "2021-04-25T08:14:20.668013Z",
     "start_time": "2021-04-25T08:14:20.640059Z"
    }
   },
   "outputs": [],
   "source": [
    "### Preprocessing\n",
    "def prep(df_origin):\n",
    "    df = df_origin.copy()\n",
    "    \n",
    "    # 자료형 변환\n",
    "    col = []\n",
    "    if df['ZN'].dtype == 'object':\n",
    "        for i in df['ZN']:\n",
    "            col.append(float(i[1:-1]))\n",
    "        df['ZN'] = col\n",
    "\n",
    "    col = []\n",
    "    if df['CHAS'].dtype == 'object':\n",
    "        for i in df['CHAS']:\n",
    "            col.append(float(i[1:-1]))\n",
    "        df['CHAS'] = col\n",
    "\n",
    "    # 결측값 처리\n",
    "    for i in df.columns[df.isnull().sum() != 0]:\n",
    "        if i not in ['INDUS', 'RM']:\n",
    "            df[i].fillna(df[i].mean(), inplace=True)\n",
    "        else:\n",
    "            df[i].fillna(df[i].median(), inplace=True)\n",
    "            \n",
    "    return df\n",
    "\n",
    "\n",
    "def datasplit(df, Y_colname, test_size=0.2, random_state=123):\n",
    "    X_colname = [x for x in df.columns if x not in Y_colname]\n",
    "       \n",
    "    X_train, X_test, Y_train, Y_test = train_test_split(df[X_colname], df[Y_colname],\n",
    "                                                        test_size=test_size, random_state=random_state)\n",
    "    print(X_train.shape, Y_train.shape)\n",
    "    print(X_test.shape, Y_test.shape)\n",
    "    \n",
    "    return X_train, X_test, Y_train, Y_test\n",
    "\n",
    "\n",
    "def feature_engineering(df_origin):\n",
    "    df = df_origin.copy()\n",
    "    \n",
    "    # 데이터 변환\n",
    "    interval = [100, 200, 300, 400, 500, 600, 700, 800]\n",
    "    if df['TAX'].max() >= 100:\n",
    "        df['TAX'] = np.digitize(df['TAX'], bins=interval)\n",
    "        \n",
    "    if 'TAX' in df.columns:\n",
    "        df_dummy = pd.get_dummies(df['TAX'], prefix='TAX', drop_first=True)\n",
    "        df = pd.concat([df, df_dummy], axis=1)\n",
    "        del df['TAX']\n",
    "\n",
    "    df['CHAS'] = df['CHAS'].astype(int)\n",
    "    if 'CHAS' in df.columns:\n",
    "        df_dummy = pd.get_dummies(df['CHAS'], prefix='CHAS', drop_first=False)\n",
    "        df = pd.concat([df, df_dummy], axis=1)\n",
    "        del df['CHAS']\n",
    "\n",
    "    if 'CHAS' in df.columns:\n",
    "        del df['CHAS']\n",
    "    \n",
    "    return df\n",
    "\n",
    "\n",
    "def col_mapping(X_train, X_test):\n",
    "    X_tr = X_train.copy()\n",
    "    X_te = X_test.copy()\n",
    "    \n",
    "    # checking the difference of columns\n",
    "    X_te_noncol = [i for i in X_tr.columns if i not in X_te.columns]\n",
    "    X_tr_noncol = [i for i in X_te.columns if i not in X_tr.columns]\n",
    "\n",
    "    # duplicates\n",
    "    if X_te_noncol != []:\n",
    "        for i in X_te_noncol:\n",
    "            X_te[i] = 0\n",
    "            X_te = X_te[X_tr.columns].copy()\n",
    "            \n",
    "    if X_tr_noncol != []:\n",
    "        for i in X_tr_noncol:\n",
    "            X_tr[i] = 0\n",
    "            X_tr = X_tr[X_te.columns].copy()\n",
    "            \n",
    "    return X_tr, X_te\n",
    "\n",
    "\n",
    "def scale(scaler, X_train, X_test):\n",
    "    scaler_fit = scaler.fit(X_train)\n",
    "    X_train_scaling = pd.DataFrame(scaler_fit.transform(X_train), \n",
    "                                   index=X_train.index, columns=X_train.columns)\n",
    "    X_test_scaling = pd.DataFrame(scaler_fit.transform(X_test), \n",
    "                                  index=X_test.index, columns=X_test.columns)\n",
    "    \n",
    "    return X_train_scaling, X_test_scaling\n",
    "\n",
    "\n",
    "### Evaluation of 1 pair of set\n",
    "def evaluation(Y_real, Y_pred, graph_on=False):\n",
    "    MAE = abs(Y_real.values.flatten() - Y_pred).mean()\n",
    "    MSE = ((Y_real.values.flatten() - Y_pred)**2).mean()\n",
    "    MAPE = (abs(Y_real.values.flatten() - Y_pred)/Y_real.values.flatten()*100).mean()\n",
    "    Score = pd.DataFrame([MAE, MSE, MAPE], index=['MAE', 'MSE', 'MAPE'], columns=['Score']).T\n",
    "    \n",
    "    Residual = pd.DataFrame(Y_real.values.flatten() - Y_pred, index=Y_real.index, columns=['Error'])\n",
    "    \n",
    "    return Score, Residual\n",
    "\n",
    "### Evaluation of train/test pairs\n",
    "def evaluation_trte(Y_real_tr, Y_pred_tr, Y_real_te, Y_pred_te, graph_on=False):\n",
    "    Score_tr, Residual_tr = evaluation(Y_real_tr, Y_pred_tr, graph_on=graph_on)\n",
    "    Score_te, Residual_te = evaluation(Y_real_te, Y_pred_te, graph_on=graph_on)\n",
    "    Score_trte = pd.concat([Score_tr, Score_te], axis=0)\n",
    "    Score_trte.index = ['Train', 'Test']\n",
    "\n",
    "    return Score_trte, Residual_tr, Residual_te\n",
    "\n",
    "\n",
    "### Error analysis\n",
    "def error_analysis(X_Data, Y_Pred, Residual, graph_on=False):\n",
    "    if graph_on == True:\n",
    "        ##### Error Analysis(Plot)\n",
    "        # Normal Distribution Analysis\n",
    "        sns.distplot(Residual, norm_hist='True', fit=stats.norm)\n",
    "        plt.show()\n",
    "\n",
    "        # Autocorrelation Analysis\n",
    "        plt.figure(figsize=(12,5))\n",
    "        sm.graphics.tsa.plot_acf(Residual, lags=50, use_vlines=True)\n",
    "        plt.show()\n",
    "\n",
    "        # Heteroscedasticity Analysis\n",
    "        temp = pd.concat([pd.DataFrame(Y_Pred, columns=['Estimated Price']),\n",
    "                          Residual.reset_index().iloc[:,[1]]], axis=1)\n",
    "        sns.scatterplot(x='Estimated Price', y='Error', data=temp)\n",
    "        plt.show()\n",
    "\n",
    "    ##### Error Analysis(Statistics)\n",
    "    # Checking of Normality\n",
    "    # Null Hypothesis: The residuals are normally distributed\n",
    "    Normality = pd.DataFrame([stats.shapiro(Residual)], \n",
    "                             index=['Normality'], columns=['Test Statistics', 'p-value']).T\n",
    "\n",
    "    # Checking for Autocorrelation\n",
    "    # Null Hypothesis: Autocorrelation is absent\n",
    "    Autocorrelation = pd.concat([pd.DataFrame(sm.stats.diagnostic.acorr_ljungbox(Residual, lags=[10,50])[0], columns=['Test Statistics']),\n",
    "                                 pd.DataFrame(sm.stats.diagnostic.acorr_ljungbox(Residual, lags=[10,50])[1], columns=['p-value'])], axis=1).T\n",
    "    Autocorrelation.columns = ['Autocorr(lag10)', 'Autocorr(lag50)']\n",
    "\n",
    "    # Checking Heteroscedasticity\n",
    "    # Null Hypothesis: Error terms are homoscedastic\n",
    "    Heteroscedasticity = pd.DataFrame([sm.stats.diagnostic.het_goldfeldquandt(Residual, X_Data.values, alternative='two-sided')],\n",
    "                                      index=['Heteroscedasticity'], \n",
    "                                      columns=['Test Statistics', 'p-value', 'Alternative']).T\n",
    "    Error_Analysis = pd.concat([Normality, Autocorrelation, Heteroscedasticity], join='outer', axis=1)\n",
    "    Error_Analysis\n",
    "    \n",
    "    return Error_Analysis"
   ]
  },
  {
   "cell_type": "markdown",
   "metadata": {},
   "source": [
    "# Base Algorithm: Linear Regression"
   ]
  },
  {
   "cell_type": "code",
   "execution_count": 4,
   "metadata": {
    "ExecuteTime": {
     "end_time": "2021-04-25T08:14:21.193607Z",
     "start_time": "2021-04-25T08:14:20.668982Z"
    },
    "scrolled": false
   },
   "outputs": [
    {
     "name": "stdout",
     "output_type": "stream",
     "text": [
      "(404, 13) (404, 1)\n",
      "(102, 13) (102, 1)\n"
     ]
    },
    {
     "data": {
      "text/html": [
       "<table class=\"simpletable\">\n",
       "<caption>OLS Regression Results</caption>\n",
       "<tr>\n",
       "  <th>Dep. Variable:</th>          <td>Price</td>      <th>  R-squared:         </th> <td>   0.752</td> \n",
       "</tr>\n",
       "<tr>\n",
       "  <th>Model:</th>                   <td>OLS</td>       <th>  Adj. R-squared:    </th> <td>   0.741</td> \n",
       "</tr>\n",
       "<tr>\n",
       "  <th>Method:</th>             <td>Least Squares</td>  <th>  F-statistic:       </th> <td>   68.67</td> \n",
       "</tr>\n",
       "<tr>\n",
       "  <th>Date:</th>             <td>Sun, 25 Apr 2021</td> <th>  Prob (F-statistic):</th> <td>2.71e-105</td>\n",
       "</tr>\n",
       "<tr>\n",
       "  <th>Time:</th>                 <td>17:14:20</td>     <th>  Log-Likelihood:    </th> <td> -1188.7</td> \n",
       "</tr>\n",
       "<tr>\n",
       "  <th>No. Observations:</th>      <td>   404</td>      <th>  AIC:               </th> <td>   2413.</td> \n",
       "</tr>\n",
       "<tr>\n",
       "  <th>Df Residuals:</th>          <td>   386</td>      <th>  BIC:               </th> <td>   2486.</td> \n",
       "</tr>\n",
       "<tr>\n",
       "  <th>Df Model:</th>              <td>    17</td>      <th>                     </th>     <td> </td>    \n",
       "</tr>\n",
       "<tr>\n",
       "  <th>Covariance Type:</th>      <td>nonrobust</td>    <th>                     </th>     <td> </td>    \n",
       "</tr>\n",
       "</table>\n",
       "<table class=\"simpletable\">\n",
       "<tr>\n",
       "     <td></td>        <th>coef</th>     <th>std err</th>      <th>t</th>      <th>P>|t|</th>  <th>[0.025</th>    <th>0.975]</th>  \n",
       "</tr>\n",
       "<tr>\n",
       "  <th>CRIM</th>    <td>   -9.7685</td> <td>    3.129</td> <td>   -3.122</td> <td> 0.002</td> <td>  -15.921</td> <td>   -3.616</td>\n",
       "</tr>\n",
       "<tr>\n",
       "  <th>ZN</th>      <td>    3.6059</td> <td>    1.538</td> <td>    2.345</td> <td> 0.020</td> <td>    0.583</td> <td>    6.629</td>\n",
       "</tr>\n",
       "<tr>\n",
       "  <th>INDUS</th>   <td>   -1.0711</td> <td>    1.956</td> <td>   -0.548</td> <td> 0.584</td> <td>   -4.917</td> <td>    2.774</td>\n",
       "</tr>\n",
       "<tr>\n",
       "  <th>NOX</th>     <td>   -6.8870</td> <td>    2.163</td> <td>   -3.184</td> <td> 0.002</td> <td>  -11.140</td> <td>   -2.634</td>\n",
       "</tr>\n",
       "<tr>\n",
       "  <th>RM</th>      <td>   28.7478</td> <td>    2.137</td> <td>   13.453</td> <td> 0.000</td> <td>   24.546</td> <td>   32.949</td>\n",
       "</tr>\n",
       "<tr>\n",
       "  <th>AGE</th>     <td>   -3.1799</td> <td>    1.386</td> <td>   -2.294</td> <td> 0.022</td> <td>   -5.906</td> <td>   -0.454</td>\n",
       "</tr>\n",
       "<tr>\n",
       "  <th>DIS</th>     <td>  -14.1170</td> <td>    2.480</td> <td>   -5.691</td> <td> 0.000</td> <td>  -18.994</td> <td>   -9.240</td>\n",
       "</tr>\n",
       "<tr>\n",
       "  <th>RAD</th>     <td>   10.9837</td> <td>    4.247</td> <td>    2.586</td> <td> 0.010</td> <td>    2.633</td> <td>   19.334</td>\n",
       "</tr>\n",
       "<tr>\n",
       "  <th>PTRATIO</th> <td>   -8.1534</td> <td>    1.388</td> <td>   -5.874</td> <td> 0.000</td> <td>  -10.882</td> <td>   -5.424</td>\n",
       "</tr>\n",
       "<tr>\n",
       "  <th>B</th>       <td>    4.1760</td> <td>    1.233</td> <td>    3.387</td> <td> 0.001</td> <td>    1.752</td> <td>    6.600</td>\n",
       "</tr>\n",
       "<tr>\n",
       "  <th>LSTAT</th>   <td>  -10.0753</td> <td>    2.011</td> <td>   -5.010</td> <td> 0.000</td> <td>  -14.029</td> <td>   -6.122</td>\n",
       "</tr>\n",
       "<tr>\n",
       "  <th>TAX_2</th>   <td>   -5.2255</td> <td>    1.405</td> <td>   -3.719</td> <td> 0.000</td> <td>   -7.988</td> <td>   -2.463</td>\n",
       "</tr>\n",
       "<tr>\n",
       "  <th>TAX_3</th>   <td>   -5.7704</td> <td>    1.463</td> <td>   -3.945</td> <td> 0.000</td> <td>   -8.646</td> <td>   -2.894</td>\n",
       "</tr>\n",
       "<tr>\n",
       "  <th>TAX_4</th>   <td>   -5.2109</td> <td>    1.538</td> <td>   -3.389</td> <td> 0.001</td> <td>   -8.234</td> <td>   -2.187</td>\n",
       "</tr>\n",
       "<tr>\n",
       "  <th>TAX_6</th>   <td>  -13.2573</td> <td>    4.293</td> <td>   -3.088</td> <td> 0.002</td> <td>  -21.697</td> <td>   -4.817</td>\n",
       "</tr>\n",
       "<tr>\n",
       "  <th>TAX_7</th>   <td>   -6.4422</td> <td>    2.668</td> <td>   -2.414</td> <td> 0.016</td> <td>  -11.688</td> <td>   -1.196</td>\n",
       "</tr>\n",
       "<tr>\n",
       "  <th>CHAS_0</th>  <td>   24.9203</td> <td>    2.976</td> <td>    8.374</td> <td> 0.000</td> <td>   19.069</td> <td>   30.771</td>\n",
       "</tr>\n",
       "<tr>\n",
       "  <th>CHAS_1</th>  <td>   26.4669</td> <td>    3.197</td> <td>    8.279</td> <td> 0.000</td> <td>   20.181</td> <td>   32.753</td>\n",
       "</tr>\n",
       "</table>\n",
       "<table class=\"simpletable\">\n",
       "<tr>\n",
       "  <th>Omnibus:</th>       <td>241.516</td> <th>  Durbin-Watson:     </th> <td>   2.188</td>\n",
       "</tr>\n",
       "<tr>\n",
       "  <th>Prob(Omnibus):</th> <td> 0.000</td>  <th>  Jarque-Bera (JB):  </th> <td>3120.749</td>\n",
       "</tr>\n",
       "<tr>\n",
       "  <th>Skew:</th>          <td> 2.289</td>  <th>  Prob(JB):          </th> <td>    0.00</td>\n",
       "</tr>\n",
       "<tr>\n",
       "  <th>Kurtosis:</th>      <td>15.823</td>  <th>  Cond. No.          </th> <td>    50.2</td>\n",
       "</tr>\n",
       "</table><br/><br/>Notes:<br/>[1] Standard Errors assume that the covariance matrix of the errors is correctly specified."
      ],
      "text/plain": [
       "<class 'statsmodels.iolib.summary.Summary'>\n",
       "\"\"\"\n",
       "                            OLS Regression Results                            \n",
       "==============================================================================\n",
       "Dep. Variable:                  Price   R-squared:                       0.752\n",
       "Model:                            OLS   Adj. R-squared:                  0.741\n",
       "Method:                 Least Squares   F-statistic:                     68.67\n",
       "Date:                Sun, 25 Apr 2021   Prob (F-statistic):          2.71e-105\n",
       "Time:                        17:14:20   Log-Likelihood:                -1188.7\n",
       "No. Observations:                 404   AIC:                             2413.\n",
       "Df Residuals:                     386   BIC:                             2486.\n",
       "Df Model:                          17                                         \n",
       "Covariance Type:            nonrobust                                         \n",
       "==============================================================================\n",
       "                 coef    std err          t      P>|t|      [0.025      0.975]\n",
       "------------------------------------------------------------------------------\n",
       "CRIM          -9.7685      3.129     -3.122      0.002     -15.921      -3.616\n",
       "ZN             3.6059      1.538      2.345      0.020       0.583       6.629\n",
       "INDUS         -1.0711      1.956     -0.548      0.584      -4.917       2.774\n",
       "NOX           -6.8870      2.163     -3.184      0.002     -11.140      -2.634\n",
       "RM            28.7478      2.137     13.453      0.000      24.546      32.949\n",
       "AGE           -3.1799      1.386     -2.294      0.022      -5.906      -0.454\n",
       "DIS          -14.1170      2.480     -5.691      0.000     -18.994      -9.240\n",
       "RAD           10.9837      4.247      2.586      0.010       2.633      19.334\n",
       "PTRATIO       -8.1534      1.388     -5.874      0.000     -10.882      -5.424\n",
       "B              4.1760      1.233      3.387      0.001       1.752       6.600\n",
       "LSTAT        -10.0753      2.011     -5.010      0.000     -14.029      -6.122\n",
       "TAX_2         -5.2255      1.405     -3.719      0.000      -7.988      -2.463\n",
       "TAX_3         -5.7704      1.463     -3.945      0.000      -8.646      -2.894\n",
       "TAX_4         -5.2109      1.538     -3.389      0.001      -8.234      -2.187\n",
       "TAX_6        -13.2573      4.293     -3.088      0.002     -21.697      -4.817\n",
       "TAX_7         -6.4422      2.668     -2.414      0.016     -11.688      -1.196\n",
       "CHAS_0        24.9203      2.976      8.374      0.000      19.069      30.771\n",
       "CHAS_1        26.4669      3.197      8.279      0.000      20.181      32.753\n",
       "==============================================================================\n",
       "Omnibus:                      241.516   Durbin-Watson:                   2.188\n",
       "Prob(Omnibus):                  0.000   Jarque-Bera (JB):             3120.749\n",
       "Skew:                           2.289   Prob(JB):                         0.00\n",
       "Kurtosis:                      15.823   Cond. No.                         50.2\n",
       "==============================================================================\n",
       "\n",
       "Notes:\n",
       "[1] Standard Errors assume that the covariance matrix of the errors is correctly specified.\n",
       "\"\"\""
      ]
     },
     "metadata": {},
     "output_type": "display_data"
    },
    {
     "data": {
      "text/html": [
       "<div>\n",
       "<style scoped>\n",
       "    .dataframe tbody tr th:only-of-type {\n",
       "        vertical-align: middle;\n",
       "    }\n",
       "\n",
       "    .dataframe tbody tr th {\n",
       "        vertical-align: top;\n",
       "    }\n",
       "\n",
       "    .dataframe thead th {\n",
       "        text-align: right;\n",
       "    }\n",
       "</style>\n",
       "<table border=\"1\" class=\"dataframe\">\n",
       "  <thead>\n",
       "    <tr style=\"text-align: right;\">\n",
       "      <th></th>\n",
       "      <th>MAE</th>\n",
       "      <th>MSE</th>\n",
       "      <th>MAPE</th>\n",
       "    </tr>\n",
       "  </thead>\n",
       "  <tbody>\n",
       "    <tr>\n",
       "      <th>Train</th>\n",
       "      <td>3.07</td>\n",
       "      <td>21.05</td>\n",
       "      <td>16.33</td>\n",
       "    </tr>\n",
       "    <tr>\n",
       "      <th>Test</th>\n",
       "      <td>3.51</td>\n",
       "      <td>31.34</td>\n",
       "      <td>16.76</td>\n",
       "    </tr>\n",
       "  </tbody>\n",
       "</table>\n",
       "</div>"
      ],
      "text/plain": [
       "       MAE   MSE  MAPE\n",
       "Train 3.07 21.05 16.33\n",
       "Test  3.51 31.34 16.76"
      ]
     },
     "metadata": {},
     "output_type": "display_data"
    },
    {
     "data": {
      "image/png": "[encoded data removed]",
      "text/plain": [
       "<Figure size 432x288 with 1 Axes>"
      ]
     },
     "metadata": {
      "needs_background": "light"
     },
     "output_type": "display_data"
    },
    {
     "data": {
      "text/plain": [
       "<Figure size 864x360 with 0 Axes>"
      ]
     },
     "metadata": {},
     "output_type": "display_data"
    },
    {
     "data": {
      "image/png": "[encoded data removed]",
      "text/plain": [
       "<Figure size 432x288 with 1 Axes>"
      ]
     },
     "metadata": {
      "needs_background": "light"
     },
     "output_type": "display_data"
    },
    {
     "data": {
      "image/png": "[encoded data removed]",
      "text/plain": [
       "<Figure size 432x288 with 1 Axes>"
      ]
     },
     "metadata": {
      "needs_background": "light"
     },
     "output_type": "display_data"
    },
    {
     "data": {
      "text/html": [
       "<div>\n",
       "<style scoped>\n",
       "    .dataframe tbody tr th:only-of-type {\n",
       "        vertical-align: middle;\n",
       "    }\n",
       "\n",
       "    .dataframe tbody tr th {\n",
       "        vertical-align: top;\n",
       "    }\n",
       "\n",
       "    .dataframe thead th {\n",
       "        text-align: right;\n",
       "    }\n",
       "</style>\n",
       "<table border=\"1\" class=\"dataframe\">\n",
       "  <thead>\n",
       "    <tr style=\"text-align: right;\">\n",
       "      <th></th>\n",
       "      <th>Normality</th>\n",
       "      <th>Autocorr(lag10)</th>\n",
       "      <th>Autocorr(lag50)</th>\n",
       "      <th>Heteroscedasticity</th>\n",
       "    </tr>\n",
       "  </thead>\n",
       "  <tbody>\n",
       "    <tr>\n",
       "      <th>Test Statistics</th>\n",
       "      <td>0.83</td>\n",
       "      <td>5.77</td>\n",
       "      <td>41.83</td>\n",
       "      <td>0.13</td>\n",
       "    </tr>\n",
       "    <tr>\n",
       "      <th>p-value</th>\n",
       "      <td>0.00</td>\n",
       "      <td>0.83</td>\n",
       "      <td>0.79</td>\n",
       "      <td>0.00</td>\n",
       "    </tr>\n",
       "    <tr>\n",
       "      <th>Alternative</th>\n",
       "      <td>nan</td>\n",
       "      <td>nan</td>\n",
       "      <td>nan</td>\n",
       "      <td>two-sided</td>\n",
       "    </tr>\n",
       "  </tbody>\n",
       "</table>\n",
       "</div>"
      ],
      "text/plain": [
       "                 Normality  Autocorr(lag10)  Autocorr(lag50)  \\\n",
       "Test Statistics       0.83             5.77            41.83   \n",
       "p-value               0.00             0.83             0.79   \n",
       "Alternative            nan              nan              nan   \n",
       "\n",
       "                Heteroscedasticity  \n",
       "Test Statistics               0.13  \n",
       "p-value                       0.00  \n",
       "Alternative              two-sided  "
      ]
     },
     "execution_count": 4,
     "metadata": {},
     "output_type": "execute_result"
    }
   ],
   "source": [
    "# Data Loading\n",
    "location = r'.\\Data\\BostonHousingPrice\\Price_Modify_KK.csv'\n",
    "df = pd.read_csv(location)\n",
    "\n",
    "# Preprocessing\n",
    "df = prep(df)\n",
    "\n",
    "Y_colname = ['Price']\n",
    "X_train, X_test, Y_train, Y_test = datasplit(df, Y_colname)\n",
    "\n",
    "X_train_fe = feature_engineering(X_train)\n",
    "X_test_fe = feature_engineering(X_test)\n",
    "X_train_fe, X_test_fe = col_mapping(X_train_fe, X_test_fe)   \n",
    "\n",
    "scaler = preprocessing.MinMaxScaler()\n",
    "X_train_fes, X_test_fes = scale(scaler, X_train_fe, X_test_fe)\n",
    "\n",
    "# Regression\n",
    "algo_lr = sm.OLS(Y_train, X_train_fes).fit()\n",
    "display(algo_lr.summary())\n",
    "\n",
    "Y_trpred = algo_lr.predict(X_train_fes).values\n",
    "Y_tepred = algo_lr.predict(X_test_fes).values\n",
    "\n",
    "# Evaluation\n",
    "Score, Resid_tr, Resid_te = evaluation_trte(Y_train, Y_trpred, Y_test, Y_tepred)\n",
    "display(Score)\n",
    "\n",
    "# Error Analysis\n",
    "error_analysis(X_test_fes, Y_tepred, Resid_te, graph_on=True)"
   ]
  },
  {
   "cell_type": "markdown",
   "metadata": {},
   "source": [
    "# Advanced Algorithm: Regularization"
   ]
  },
  {
   "cell_type": "markdown",
   "metadata": {},
   "source": [
    "## Ridge"
   ]
  },
  {
   "cell_type": "code",
   "execution_count": 5,
   "metadata": {
    "ExecuteTime": {
     "end_time": "2021-04-25T08:14:21.718207Z",
     "start_time": "2021-04-25T08:14:21.195573Z"
    },
    "scrolled": false
   },
   "outputs": [
    {
     "name": "stdout",
     "output_type": "stream",
     "text": [
      "(404, 13) (404, 1)\n",
      "(102, 13) (102, 1)\n"
     ]
    },
    {
     "data": {
      "text/html": [
       "<div>\n",
       "<style scoped>\n",
       "    .dataframe tbody tr th:only-of-type {\n",
       "        vertical-align: middle;\n",
       "    }\n",
       "\n",
       "    .dataframe tbody tr th {\n",
       "        vertical-align: top;\n",
       "    }\n",
       "\n",
       "    .dataframe thead th {\n",
       "        text-align: right;\n",
       "    }\n",
       "</style>\n",
       "<table border=\"1\" class=\"dataframe\">\n",
       "  <thead>\n",
       "    <tr style=\"text-align: right;\">\n",
       "      <th></th>\n",
       "      <th>MAE</th>\n",
       "      <th>MSE</th>\n",
       "      <th>MAPE</th>\n",
       "    </tr>\n",
       "  </thead>\n",
       "  <tbody>\n",
       "    <tr>\n",
       "      <th>Train</th>\n",
       "      <td>3.05</td>\n",
       "      <td>21.26</td>\n",
       "      <td>16.13</td>\n",
       "    </tr>\n",
       "    <tr>\n",
       "      <th>Test</th>\n",
       "      <td>3.49</td>\n",
       "      <td>30.99</td>\n",
       "      <td>16.53</td>\n",
       "    </tr>\n",
       "  </tbody>\n",
       "</table>\n",
       "</div>"
      ],
      "text/plain": [
       "       MAE   MSE  MAPE\n",
       "Train 3.05 21.26 16.13\n",
       "Test  3.49 30.99 16.53"
      ]
     },
     "metadata": {},
     "output_type": "display_data"
    },
    {
     "data": {
      "image/png": "[encoded data removed]",
      "text/plain": [
       "<Figure size 432x288 with 1 Axes>"
      ]
     },
     "metadata": {
      "needs_background": "light"
     },
     "output_type": "display_data"
    },
    {
     "data": {
      "text/plain": [
       "<Figure size 864x360 with 0 Axes>"
      ]
     },
     "metadata": {},
     "output_type": "display_data"
    },
    {
     "data": {
      "image/png": "[encoded data removed]",
      "text/plain": [
       "<Figure size 432x288 with 1 Axes>"
      ]
     },
     "metadata": {
      "needs_background": "light"
     },
     "output_type": "display_data"
    },
    {
     "data": {
      "image/png": "[encoded data removed]",
      "text/plain": [
       "<Figure size 432x288 with 1 Axes>"
      ]
     },
     "metadata": {
      "needs_background": "light"
     },
     "output_type": "display_data"
    },
    {
     "data": {
      "text/html": [
       "<div>\n",
       "<style scoped>\n",
       "    .dataframe tbody tr th:only-of-type {\n",
       "        vertical-align: middle;\n",
       "    }\n",
       "\n",
       "    .dataframe tbody tr th {\n",
       "        vertical-align: top;\n",
       "    }\n",
       "\n",
       "    .dataframe thead th {\n",
       "        text-align: right;\n",
       "    }\n",
       "</style>\n",
       "<table border=\"1\" class=\"dataframe\">\n",
       "  <thead>\n",
       "    <tr style=\"text-align: right;\">\n",
       "      <th></th>\n",
       "      <th>Normality</th>\n",
       "      <th>Autocorr(lag10)</th>\n",
       "      <th>Autocorr(lag50)</th>\n",
       "      <th>Heteroscedasticity</th>\n",
       "    </tr>\n",
       "  </thead>\n",
       "  <tbody>\n",
       "    <tr>\n",
       "      <th>Test Statistics</th>\n",
       "      <td>0.83</td>\n",
       "      <td>5.70</td>\n",
       "      <td>44.24</td>\n",
       "      <td>0.13</td>\n",
       "    </tr>\n",
       "    <tr>\n",
       "      <th>p-value</th>\n",
       "      <td>0.00</td>\n",
       "      <td>0.84</td>\n",
       "      <td>0.70</td>\n",
       "      <td>0.00</td>\n",
       "    </tr>\n",
       "    <tr>\n",
       "      <th>Alternative</th>\n",
       "      <td>nan</td>\n",
       "      <td>nan</td>\n",
       "      <td>nan</td>\n",
       "      <td>two-sided</td>\n",
       "    </tr>\n",
       "  </tbody>\n",
       "</table>\n",
       "</div>"
      ],
      "text/plain": [
       "                 Normality  Autocorr(lag10)  Autocorr(lag50)  \\\n",
       "Test Statistics       0.83             5.70            44.24   \n",
       "p-value               0.00             0.84             0.70   \n",
       "Alternative            nan              nan              nan   \n",
       "\n",
       "                Heteroscedasticity  \n",
       "Test Statistics               0.13  \n",
       "p-value                       0.00  \n",
       "Alternative              two-sided  "
      ]
     },
     "execution_count": 5,
     "metadata": {},
     "output_type": "execute_result"
    }
   ],
   "source": [
    "# Data Loading\n",
    "location = r'.\\Data\\BostonHousingPrice\\Price_Modify_KK.csv'\n",
    "df = pd.read_csv(location)\n",
    "\n",
    "# Preprocessing\n",
    "df = prep(df)\n",
    "\n",
    "Y_colname = ['Price']\n",
    "X_train, X_test, Y_train, Y_test = datasplit(df, Y_colname)\n",
    "\n",
    "X_train_fe = feature_engineering(X_train)\n",
    "X_test_fe = feature_engineering(X_test)\n",
    "X_train_fe, X_test_fe = col_mapping(X_train_fe, X_test_fe)   \n",
    "\n",
    "scaler = preprocessing.MinMaxScaler()\n",
    "X_train_fes, X_test_fes = scale(scaler, X_train_fe, X_test_fe)\n",
    "\n",
    "### Regularization\n",
    "# Ridge\n",
    "algo_ridge = Ridge(alpha=0.5, fit_intercept=True, \n",
    "                   normalize=False, random_state=123).fit(X_train_fes, Y_train)\n",
    "Y_trpred_ridge = algo_ridge.predict(X_train_fes).flatten()\n",
    "Y_tepred_ridge = algo_ridge.predict(X_test_fes).flatten()\n",
    "\n",
    "# Evaluation\n",
    "Score_ridge, \\\n",
    "Resid_tr_ridge, Resid_te_ridge = evaluation_trte(Y_train, Y_trpred_ridge,\n",
    "                                                 Y_test, Y_tepred_ridge, \n",
    "                                                 graph_on=False)\n",
    "display(Score_ridge)\n",
    "\n",
    "# Error Analysis\n",
    "error_analysis(X_test_fes, Y_tepred_ridge, Resid_te_ridge, graph_on=True)"
   ]
  },
  {
   "cell_type": "markdown",
   "metadata": {},
   "source": [
    "## Lasso"
   ]
  },
  {
   "cell_type": "code",
   "execution_count": 6,
   "metadata": {
    "ExecuteTime": {
     "end_time": "2021-04-25T08:14:22.197923Z",
     "start_time": "2021-04-25T08:14:21.720203Z"
    }
   },
   "outputs": [
    {
     "name": "stdout",
     "output_type": "stream",
     "text": [
      "(404, 13) (404, 1)\n",
      "(102, 13) (102, 1)\n"
     ]
    },
    {
     "data": {
      "text/html": [
       "<div>\n",
       "<style scoped>\n",
       "    .dataframe tbody tr th:only-of-type {\n",
       "        vertical-align: middle;\n",
       "    }\n",
       "\n",
       "    .dataframe tbody tr th {\n",
       "        vertical-align: top;\n",
       "    }\n",
       "\n",
       "    .dataframe thead th {\n",
       "        text-align: right;\n",
       "    }\n",
       "</style>\n",
       "<table border=\"1\" class=\"dataframe\">\n",
       "  <thead>\n",
       "    <tr style=\"text-align: right;\">\n",
       "      <th></th>\n",
       "      <th>MAE</th>\n",
       "      <th>MSE</th>\n",
       "      <th>MAPE</th>\n",
       "    </tr>\n",
       "  </thead>\n",
       "  <tbody>\n",
       "    <tr>\n",
       "      <th>Train</th>\n",
       "      <td>4.27</td>\n",
       "      <td>38.64</td>\n",
       "      <td>22.38</td>\n",
       "    </tr>\n",
       "    <tr>\n",
       "      <th>Test</th>\n",
       "      <td>4.65</td>\n",
       "      <td>45.53</td>\n",
       "      <td>21.33</td>\n",
       "    </tr>\n",
       "  </tbody>\n",
       "</table>\n",
       "</div>"
      ],
      "text/plain": [
       "       MAE   MSE  MAPE\n",
       "Train 4.27 38.64 22.38\n",
       "Test  4.65 45.53 21.33"
      ]
     },
     "metadata": {},
     "output_type": "display_data"
    },
    {
     "data": {
      "image/png": "[encoded data removed]",
      "text/plain": [
       "<Figure size 432x288 with 1 Axes>"
      ]
     },
     "metadata": {
      "needs_background": "light"
     },
     "output_type": "display_data"
    },
    {
     "data": {
      "text/plain": [
       "<Figure size 864x360 with 0 Axes>"
      ]
     },
     "metadata": {},
     "output_type": "display_data"
    },
    {
     "data": {
      "image/png": "[encoded data removed]",
      "text/plain": [
       "<Figure size 432x288 with 1 Axes>"
      ]
     },
     "metadata": {
      "needs_background": "light"
     },
     "output_type": "display_data"
    },
    {
     "data": {
      "image/png": "[encoded data removed]",
      "text/plain": [
       "<Figure size 432x288 with 1 Axes>"
      ]
     },
     "metadata": {
      "needs_background": "light"
     },
     "output_type": "display_data"
    },
    {
     "data": {
      "text/html": [
       "<div>\n",
       "<style scoped>\n",
       "    .dataframe tbody tr th:only-of-type {\n",
       "        vertical-align: middle;\n",
       "    }\n",
       "\n",
       "    .dataframe tbody tr th {\n",
       "        vertical-align: top;\n",
       "    }\n",
       "\n",
       "    .dataframe thead th {\n",
       "        text-align: right;\n",
       "    }\n",
       "</style>\n",
       "<table border=\"1\" class=\"dataframe\">\n",
       "  <thead>\n",
       "    <tr style=\"text-align: right;\">\n",
       "      <th></th>\n",
       "      <th>Normality</th>\n",
       "      <th>Autocorr(lag10)</th>\n",
       "      <th>Autocorr(lag50)</th>\n",
       "      <th>Heteroscedasticity</th>\n",
       "    </tr>\n",
       "  </thead>\n",
       "  <tbody>\n",
       "    <tr>\n",
       "      <th>Test Statistics</th>\n",
       "      <td>0.85</td>\n",
       "      <td>9.73</td>\n",
       "      <td>59.75</td>\n",
       "      <td>0.13</td>\n",
       "    </tr>\n",
       "    <tr>\n",
       "      <th>p-value</th>\n",
       "      <td>0.00</td>\n",
       "      <td>0.46</td>\n",
       "      <td>0.16</td>\n",
       "      <td>0.00</td>\n",
       "    </tr>\n",
       "    <tr>\n",
       "      <th>Alternative</th>\n",
       "      <td>nan</td>\n",
       "      <td>nan</td>\n",
       "      <td>nan</td>\n",
       "      <td>two-sided</td>\n",
       "    </tr>\n",
       "  </tbody>\n",
       "</table>\n",
       "</div>"
      ],
      "text/plain": [
       "                 Normality  Autocorr(lag10)  Autocorr(lag50)  \\\n",
       "Test Statistics       0.85             9.73            59.75   \n",
       "p-value               0.00             0.46             0.16   \n",
       "Alternative            nan              nan              nan   \n",
       "\n",
       "                Heteroscedasticity  \n",
       "Test Statistics               0.13  \n",
       "p-value                       0.00  \n",
       "Alternative              two-sided  "
      ]
     },
     "execution_count": 6,
     "metadata": {},
     "output_type": "execute_result"
    }
   ],
   "source": [
    "# Data Loading\n",
    "location = r'.\\Data\\BostonHousingPrice\\Price_Modify_KK.csv'\n",
    "df = pd.read_csv(location)\n",
    "\n",
    "# Preprocessing\n",
    "df = prep(df)\n",
    "\n",
    "Y_colname = ['Price']\n",
    "X_train, X_test, Y_train, Y_test = datasplit(df, Y_colname)\n",
    "\n",
    "X_train_fe = feature_engineering(X_train)\n",
    "X_test_fe = feature_engineering(X_test)\n",
    "X_train_fe, X_test_fe = col_mapping(X_train_fe, X_test_fe)   \n",
    "\n",
    "scaler = preprocessing.MinMaxScaler()\n",
    "X_train_fes, X_test_fes = scale(scaler, X_train_fe, X_test_fe)\n",
    "\n",
    "### Regularization\n",
    "# Lasso\n",
    "algo_lasso = Lasso(alpha=0.5, fit_intercept=True, \n",
    "                   normalize=False, random_state=123).fit(X_train_fes, Y_train)\n",
    "Y_trpred_lasso = algo_lasso.predict(X_train_fes).flatten()\n",
    "Y_tepred_lasso = algo_lasso.predict(X_test_fes).flatten()\n",
    "\n",
    "# Evaluation\n",
    "Score_lasso, \\\n",
    "Resid_tr_lasso, Resid_te_lasso = evaluation_trte(Y_train, Y_trpred_lasso,\n",
    "                                                 Y_test, Y_tepred_lasso, \n",
    "                                                 graph_on=False)\n",
    "display(Score_lasso)\n",
    "\n",
    "# Error Analysis\n",
    "error_analysis(X_test_fes, Y_tepred_lasso, Resid_te_lasso, graph_on=True)"
   ]
  },
  {
   "cell_type": "markdown",
   "metadata": {
    "ExecuteTime": {
     "end_time": "2021-04-25T07:04:23.654251Z",
     "start_time": "2021-04-25T07:04:23.642282Z"
    }
   },
   "source": [
    "## Elastic Net"
   ]
  },
  {
   "cell_type": "code",
   "execution_count": 7,
   "metadata": {
    "ExecuteTime": {
     "end_time": "2021-04-25T08:14:22.706591Z",
     "start_time": "2021-04-25T08:14:22.200916Z"
    }
   },
   "outputs": [
    {
     "name": "stdout",
     "output_type": "stream",
     "text": [
      "(404, 13) (404, 1)\n",
      "(102, 13) (102, 1)\n"
     ]
    },
    {
     "data": {
      "text/html": [
       "<div>\n",
       "<style scoped>\n",
       "    .dataframe tbody tr th:only-of-type {\n",
       "        vertical-align: middle;\n",
       "    }\n",
       "\n",
       "    .dataframe tbody tr th {\n",
       "        vertical-align: top;\n",
       "    }\n",
       "\n",
       "    .dataframe thead th {\n",
       "        text-align: right;\n",
       "    }\n",
       "</style>\n",
       "<table border=\"1\" class=\"dataframe\">\n",
       "  <thead>\n",
       "    <tr style=\"text-align: right;\">\n",
       "      <th></th>\n",
       "      <th>MAE</th>\n",
       "      <th>MSE</th>\n",
       "      <th>MAPE</th>\n",
       "    </tr>\n",
       "  </thead>\n",
       "  <tbody>\n",
       "    <tr>\n",
       "      <th>Train</th>\n",
       "      <td>3.21</td>\n",
       "      <td>23.95</td>\n",
       "      <td>16.31</td>\n",
       "    </tr>\n",
       "    <tr>\n",
       "      <th>Test</th>\n",
       "      <td>3.54</td>\n",
       "      <td>30.79</td>\n",
       "      <td>16.11</td>\n",
       "    </tr>\n",
       "  </tbody>\n",
       "</table>\n",
       "</div>"
      ],
      "text/plain": [
       "       MAE   MSE  MAPE\n",
       "Train 3.21 23.95 16.31\n",
       "Test  3.54 30.79 16.11"
      ]
     },
     "metadata": {},
     "output_type": "display_data"
    },
    {
     "data": {
      "image/png": "[encoded data removed]",
      "text/plain": [
       "<Figure size 432x288 with 1 Axes>"
      ]
     },
     "metadata": {
      "needs_background": "light"
     },
     "output_type": "display_data"
    },
    {
     "data": {
      "text/plain": [
       "<Figure size 864x360 with 0 Axes>"
      ]
     },
     "metadata": {},
     "output_type": "display_data"
    },
    {
     "data": {
      "image/png": "[encoded data removed]",
      "text/plain": [
       "<Figure size 432x288 with 1 Axes>"
      ]
     },
     "metadata": {
      "needs_background": "light"
     },
     "output_type": "display_data"
    },
    {
     "data": {
      "image/png": "[encoded data removed]",
      "text/plain": [
       "<Figure size 432x288 with 1 Axes>"
      ]
     },
     "metadata": {
      "needs_background": "light"
     },
     "output_type": "display_data"
    },
    {
     "data": {
      "text/html": [
       "<div>\n",
       "<style scoped>\n",
       "    .dataframe tbody tr th:only-of-type {\n",
       "        vertical-align: middle;\n",
       "    }\n",
       "\n",
       "    .dataframe tbody tr th {\n",
       "        vertical-align: top;\n",
       "    }\n",
       "\n",
       "    .dataframe thead th {\n",
       "        text-align: right;\n",
       "    }\n",
       "</style>\n",
       "<table border=\"1\" class=\"dataframe\">\n",
       "  <thead>\n",
       "    <tr style=\"text-align: right;\">\n",
       "      <th></th>\n",
       "      <th>Normality</th>\n",
       "      <th>Autocorr(lag10)</th>\n",
       "      <th>Autocorr(lag50)</th>\n",
       "      <th>Heteroscedasticity</th>\n",
       "    </tr>\n",
       "  </thead>\n",
       "  <tbody>\n",
       "    <tr>\n",
       "      <th>Test Statistics</th>\n",
       "      <td>0.82</td>\n",
       "      <td>8.10</td>\n",
       "      <td>54.81</td>\n",
       "      <td>0.13</td>\n",
       "    </tr>\n",
       "    <tr>\n",
       "      <th>p-value</th>\n",
       "      <td>0.00</td>\n",
       "      <td>0.62</td>\n",
       "      <td>0.30</td>\n",
       "      <td>0.00</td>\n",
       "    </tr>\n",
       "    <tr>\n",
       "      <th>Alternative</th>\n",
       "      <td>nan</td>\n",
       "      <td>nan</td>\n",
       "      <td>nan</td>\n",
       "      <td>two-sided</td>\n",
       "    </tr>\n",
       "  </tbody>\n",
       "</table>\n",
       "</div>"
      ],
      "text/plain": [
       "                 Normality  Autocorr(lag10)  Autocorr(lag50)  \\\n",
       "Test Statistics       0.82             8.10            54.81   \n",
       "p-value               0.00             0.62             0.30   \n",
       "Alternative            nan              nan              nan   \n",
       "\n",
       "                Heteroscedasticity  \n",
       "Test Statistics               0.13  \n",
       "p-value                       0.00  \n",
       "Alternative              two-sided  "
      ]
     },
     "execution_count": 7,
     "metadata": {},
     "output_type": "execute_result"
    }
   ],
   "source": [
    "# Data Loading\n",
    "location = r'.\\Data\\BostonHousingPrice\\Price_Modify_KK.csv'\n",
    "df = pd.read_csv(location)\n",
    "\n",
    "# Preprocessing\n",
    "df = prep(df)\n",
    "\n",
    "Y_colname = ['Price']\n",
    "X_train, X_test, Y_train, Y_test = datasplit(df, Y_colname)\n",
    "\n",
    "X_train_fe = feature_engineering(X_train)\n",
    "X_test_fe = feature_engineering(X_test)\n",
    "X_train_fe, X_test_fe = col_mapping(X_train_fe, X_test_fe)   \n",
    "\n",
    "scaler = preprocessing.MinMaxScaler()\n",
    "X_train_fes, X_test_fes = scale(scaler, X_train_fe, X_test_fe)\n",
    "\n",
    "### Regularization\n",
    "# ElasticNet\n",
    "algo_en = ElasticNet(alpha=0.01, l1_ratio=0.1, fit_intercept=True, \n",
    "                   normalize=False, random_state=123).fit(X_train_fes, Y_train)\n",
    "Y_trpred_en = algo_en.predict(X_train_fes).flatten()\n",
    "Y_tepred_en = algo_en.predict(X_test_fes).flatten()\n",
    "\n",
    "# Evaluation\n",
    "Score_en, \\\n",
    "Resid_tr_en, Resid_te_en = evaluation_trte(Y_train, Y_trpred_en,\n",
    "                                           Y_test, Y_tepred_en, \n",
    "                                           graph_on=False)\n",
    "display(Score_en)\n",
    "\n",
    "# Error Analysis\n",
    "error_analysis(X_test_fes, Y_tepred_en, Resid_te_en, graph_on=True)"
   ]
  },
  {
   "cell_type": "markdown",
   "metadata": {},
   "source": [
    "# Advanced Algorithm: Bagging"
   ]
  },
  {
   "cell_type": "markdown",
   "metadata": {},
   "source": [
    "## Decision Tree"
   ]
  },
  {
   "cell_type": "code",
   "execution_count": 8,
   "metadata": {
    "ExecuteTime": {
     "end_time": "2021-04-25T08:14:23.172346Z",
     "start_time": "2021-04-25T08:14:22.707560Z"
    }
   },
   "outputs": [
    {
     "name": "stdout",
     "output_type": "stream",
     "text": [
      "(404, 13) (404, 1)\n",
      "(102, 13) (102, 1)\n"
     ]
    },
    {
     "data": {
      "text/html": [
       "<div>\n",
       "<style scoped>\n",
       "    .dataframe tbody tr th:only-of-type {\n",
       "        vertical-align: middle;\n",
       "    }\n",
       "\n",
       "    .dataframe tbody tr th {\n",
       "        vertical-align: top;\n",
       "    }\n",
       "\n",
       "    .dataframe thead th {\n",
       "        text-align: right;\n",
       "    }\n",
       "</style>\n",
       "<table border=\"1\" class=\"dataframe\">\n",
       "  <thead>\n",
       "    <tr style=\"text-align: right;\">\n",
       "      <th></th>\n",
       "      <th>MAE</th>\n",
       "      <th>MSE</th>\n",
       "      <th>MAPE</th>\n",
       "    </tr>\n",
       "  </thead>\n",
       "  <tbody>\n",
       "    <tr>\n",
       "      <th>Train</th>\n",
       "      <td>0.00</td>\n",
       "      <td>0.00</td>\n",
       "      <td>0.00</td>\n",
       "    </tr>\n",
       "    <tr>\n",
       "      <th>Test</th>\n",
       "      <td>4.24</td>\n",
       "      <td>50.78</td>\n",
       "      <td>21.12</td>\n",
       "    </tr>\n",
       "  </tbody>\n",
       "</table>\n",
       "</div>"
      ],
      "text/plain": [
       "       MAE   MSE  MAPE\n",
       "Train 0.00  0.00  0.00\n",
       "Test  4.24 50.78 21.12"
      ]
     },
     "metadata": {},
     "output_type": "display_data"
    },
    {
     "data": {
      "image/png": "[encoded data removed]",
      "text/plain": [
       "<Figure size 432x288 with 1 Axes>"
      ]
     },
     "metadata": {
      "needs_background": "light"
     },
     "output_type": "display_data"
    },
    {
     "data": {
      "text/plain": [
       "<Figure size 864x360 with 0 Axes>"
      ]
     },
     "metadata": {},
     "output_type": "display_data"
    },
    {
     "data": {
      "image/png": "[encoded data removed]",
      "text/plain": [
       "<Figure size 432x288 with 1 Axes>"
      ]
     },
     "metadata": {
      "needs_background": "light"
     },
     "output_type": "display_data"
    },
    {
     "data": {
      "image/png": "[encoded data removed]",
      "text/plain": [
       "<Figure size 432x288 with 1 Axes>"
      ]
     },
     "metadata": {
      "needs_background": "light"
     },
     "output_type": "display_data"
    },
    {
     "data": {
      "text/html": [
       "<div>\n",
       "<style scoped>\n",
       "    .dataframe tbody tr th:only-of-type {\n",
       "        vertical-align: middle;\n",
       "    }\n",
       "\n",
       "    .dataframe tbody tr th {\n",
       "        vertical-align: top;\n",
       "    }\n",
       "\n",
       "    .dataframe thead th {\n",
       "        text-align: right;\n",
       "    }\n",
       "</style>\n",
       "<table border=\"1\" class=\"dataframe\">\n",
       "  <thead>\n",
       "    <tr style=\"text-align: right;\">\n",
       "      <th></th>\n",
       "      <th>Normality</th>\n",
       "      <th>Autocorr(lag10)</th>\n",
       "      <th>Autocorr(lag50)</th>\n",
       "      <th>Heteroscedasticity</th>\n",
       "    </tr>\n",
       "  </thead>\n",
       "  <tbody>\n",
       "    <tr>\n",
       "      <th>Test Statistics</th>\n",
       "      <td>0.79</td>\n",
       "      <td>18.38</td>\n",
       "      <td>78.42</td>\n",
       "      <td>0.39</td>\n",
       "    </tr>\n",
       "    <tr>\n",
       "      <th>p-value</th>\n",
       "      <td>0.00</td>\n",
       "      <td>0.05</td>\n",
       "      <td>0.01</td>\n",
       "      <td>0.01</td>\n",
       "    </tr>\n",
       "    <tr>\n",
       "      <th>Alternative</th>\n",
       "      <td>nan</td>\n",
       "      <td>nan</td>\n",
       "      <td>nan</td>\n",
       "      <td>two-sided</td>\n",
       "    </tr>\n",
       "  </tbody>\n",
       "</table>\n",
       "</div>"
      ],
      "text/plain": [
       "                 Normality  Autocorr(lag10)  Autocorr(lag50)  \\\n",
       "Test Statistics       0.79            18.38            78.42   \n",
       "p-value               0.00             0.05             0.01   \n",
       "Alternative            nan              nan              nan   \n",
       "\n",
       "                Heteroscedasticity  \n",
       "Test Statistics               0.39  \n",
       "p-value                       0.01  \n",
       "Alternative              two-sided  "
      ]
     },
     "execution_count": 8,
     "metadata": {},
     "output_type": "execute_result"
    }
   ],
   "source": [
    "# Data Loading\n",
    "location = r'.\\Data\\BostonHousingPrice\\Price_Modify_KK.csv'\n",
    "df = pd.read_csv(location)\n",
    "\n",
    "# Preprocessing\n",
    "df = prep(df)\n",
    "\n",
    "Y_colname = ['Price']\n",
    "X_train, X_test, Y_train, Y_test = datasplit(df, Y_colname)\n",
    "\n",
    "X_train_fe = feature_engineering(X_train)\n",
    "X_test_fe = feature_engineering(X_test)\n",
    "X_train_fe, X_test_fe = col_mapping(X_train_fe, X_test_fe)   \n",
    "\n",
    "scaler = preprocessing.MinMaxScaler()\n",
    "X_train_fes, X_test_fes = scale(scaler, X_train_fe, X_test_fe)\n",
    "\n",
    "### Bagging\n",
    "# DecisionTree\n",
    "algo_dt = DecisionTreeRegressor().fit(X_train_fes, Y_train)\n",
    "Y_trpred_dt = algo_dt.predict(X_train_fes).flatten()\n",
    "Y_tepred_dt = algo_dt.predict(X_test_fes).flatten()\n",
    "\n",
    "# Evaluation\n",
    "Score_dt, \\\n",
    "Resid_tr_dt, Resid_te_dt = evaluation_trte(Y_train, Y_trpred_dt,\n",
    "                                           Y_test, Y_tepred_dt, \n",
    "                                           graph_on=False)\n",
    "display(Score_dt)\n",
    "\n",
    "# Error Analysis\n",
    "error_analysis(X_test_fes, Y_tepred_dt, Resid_te_dt, graph_on=True)"
   ]
  },
  {
   "cell_type": "markdown",
   "metadata": {},
   "source": [
    "## Random Forest"
   ]
  },
  {
   "cell_type": "code",
   "execution_count": 9,
   "metadata": {
    "ExecuteTime": {
     "end_time": "2021-04-25T08:14:23.965198Z",
     "start_time": "2021-04-25T08:14:23.173341Z"
    }
   },
   "outputs": [
    {
     "name": "stdout",
     "output_type": "stream",
     "text": [
      "(404, 13) (404, 1)\n",
      "(102, 13) (102, 1)\n"
     ]
    },
    {
     "data": {
      "text/html": [
       "<div>\n",
       "<style scoped>\n",
       "    .dataframe tbody tr th:only-of-type {\n",
       "        vertical-align: middle;\n",
       "    }\n",
       "\n",
       "    .dataframe tbody tr th {\n",
       "        vertical-align: top;\n",
       "    }\n",
       "\n",
       "    .dataframe thead th {\n",
       "        text-align: right;\n",
       "    }\n",
       "</style>\n",
       "<table border=\"1\" class=\"dataframe\">\n",
       "  <thead>\n",
       "    <tr style=\"text-align: right;\">\n",
       "      <th></th>\n",
       "      <th>MAE</th>\n",
       "      <th>MSE</th>\n",
       "      <th>MAPE</th>\n",
       "    </tr>\n",
       "  </thead>\n",
       "  <tbody>\n",
       "    <tr>\n",
       "      <th>Train</th>\n",
       "      <td>0.86</td>\n",
       "      <td>1.55</td>\n",
       "      <td>4.42</td>\n",
       "    </tr>\n",
       "    <tr>\n",
       "      <th>Test</th>\n",
       "      <td>2.71</td>\n",
       "      <td>25.67</td>\n",
       "      <td>13.21</td>\n",
       "    </tr>\n",
       "  </tbody>\n",
       "</table>\n",
       "</div>"
      ],
      "text/plain": [
       "       MAE   MSE  MAPE\n",
       "Train 0.86  1.55  4.42\n",
       "Test  2.71 25.67 13.21"
      ]
     },
     "metadata": {},
     "output_type": "display_data"
    },
    {
     "data": {
      "image/png": "[encoded data removed]",
      "text/plain": [
       "<Figure size 432x288 with 1 Axes>"
      ]
     },
     "metadata": {
      "needs_background": "light"
     },
     "output_type": "display_data"
    },
    {
     "data": {
      "text/plain": [
       "<Figure size 864x360 with 0 Axes>"
      ]
     },
     "metadata": {},
     "output_type": "display_data"
    },
    {
     "data": {
      "image/png": "[encoded data removed]",
      "text/plain": [
       "<Figure size 432x288 with 1 Axes>"
      ]
     },
     "metadata": {
      "needs_background": "light"
     },
     "output_type": "display_data"
    },
    {
     "data": {
      "image/png": "[encoded data removed]",
      "text/plain": [
       "<Figure size 432x288 with 1 Axes>"
      ]
     },
     "metadata": {
      "needs_background": "light"
     },
     "output_type": "display_data"
    },
    {
     "data": {
      "text/html": [
       "<div>\n",
       "<style scoped>\n",
       "    .dataframe tbody tr th:only-of-type {\n",
       "        vertical-align: middle;\n",
       "    }\n",
       "\n",
       "    .dataframe tbody tr th {\n",
       "        vertical-align: top;\n",
       "    }\n",
       "\n",
       "    .dataframe thead th {\n",
       "        text-align: right;\n",
       "    }\n",
       "</style>\n",
       "<table border=\"1\" class=\"dataframe\">\n",
       "  <thead>\n",
       "    <tr style=\"text-align: right;\">\n",
       "      <th></th>\n",
       "      <th>Normality</th>\n",
       "      <th>Autocorr(lag10)</th>\n",
       "      <th>Autocorr(lag50)</th>\n",
       "      <th>Heteroscedasticity</th>\n",
       "    </tr>\n",
       "  </thead>\n",
       "  <tbody>\n",
       "    <tr>\n",
       "      <th>Test Statistics</th>\n",
       "      <td>0.73</td>\n",
       "      <td>15.91</td>\n",
       "      <td>62.15</td>\n",
       "      <td>0.12</td>\n",
       "    </tr>\n",
       "    <tr>\n",
       "      <th>p-value</th>\n",
       "      <td>0.00</td>\n",
       "      <td>0.10</td>\n",
       "      <td>0.12</td>\n",
       "      <td>0.00</td>\n",
       "    </tr>\n",
       "    <tr>\n",
       "      <th>Alternative</th>\n",
       "      <td>nan</td>\n",
       "      <td>nan</td>\n",
       "      <td>nan</td>\n",
       "      <td>two-sided</td>\n",
       "    </tr>\n",
       "  </tbody>\n",
       "</table>\n",
       "</div>"
      ],
      "text/plain": [
       "                 Normality  Autocorr(lag10)  Autocorr(lag50)  \\\n",
       "Test Statistics       0.73            15.91            62.15   \n",
       "p-value               0.00             0.10             0.12   \n",
       "Alternative            nan              nan              nan   \n",
       "\n",
       "                Heteroscedasticity  \n",
       "Test Statistics               0.12  \n",
       "p-value                       0.00  \n",
       "Alternative              two-sided  "
      ]
     },
     "execution_count": 9,
     "metadata": {},
     "output_type": "execute_result"
    }
   ],
   "source": [
    "# Data Loading\n",
    "location = r'.\\Data\\BostonHousingPrice\\Price_Modify_KK.csv'\n",
    "df = pd.read_csv(location)\n",
    "\n",
    "# Preprocessing\n",
    "df = prep(df)\n",
    "\n",
    "Y_colname = ['Price']\n",
    "X_train, X_test, Y_train, Y_test = datasplit(df, Y_colname)\n",
    "\n",
    "X_train_fe = feature_engineering(X_train)\n",
    "X_test_fe = feature_engineering(X_test)\n",
    "X_train_fe, X_test_fe = col_mapping(X_train_fe, X_test_fe)   \n",
    "\n",
    "scaler = preprocessing.MinMaxScaler()\n",
    "X_train_fes, X_test_fes = scale(scaler, X_train_fe, X_test_fe)\n",
    "\n",
    "### Bagging\n",
    "# RandomForestRegressor\n",
    "algo_rf = RandomForestRegressor(n_estimators=100, random_state=123).fit(X_train_fes, Y_train)\n",
    "Y_trpred_rf = algo_rf.predict(X_train_fes).flatten()\n",
    "Y_tepred_rf = algo_rf.predict(X_test_fes).flatten()\n",
    "\n",
    "# Evaluation\n",
    "Score_rf, \\\n",
    "Resid_tr_rf, Resid_te_rf = evaluation_trte(Y_train, Y_trpred_rf,\n",
    "                                           Y_test, Y_tepred_rf, \n",
    "                                           graph_on=False)\n",
    "display(Score_rf)\n",
    "\n",
    "# Error Analysis\n",
    "error_analysis(X_test_fes, Y_tepred_rf, Resid_te_rf, graph_on=True)"
   ]
  },
  {
   "cell_type": "markdown",
   "metadata": {},
   "source": [
    "# Advanced Algorithm: Boosting"
   ]
  },
  {
   "cell_type": "markdown",
   "metadata": {},
   "source": [
    "## Gradient Boosting"
   ]
  },
  {
   "cell_type": "code",
   "execution_count": 10,
   "metadata": {
    "ExecuteTime": {
     "end_time": "2021-04-25T08:14:24.624434Z",
     "start_time": "2021-04-25T08:14:23.967192Z"
    }
   },
   "outputs": [
    {
     "name": "stdout",
     "output_type": "stream",
     "text": [
      "(404, 13) (404, 1)\n",
      "(102, 13) (102, 1)\n"
     ]
    },
    {
     "data": {
      "text/html": [
       "<div>\n",
       "<style scoped>\n",
       "    .dataframe tbody tr th:only-of-type {\n",
       "        vertical-align: middle;\n",
       "    }\n",
       "\n",
       "    .dataframe tbody tr th {\n",
       "        vertical-align: top;\n",
       "    }\n",
       "\n",
       "    .dataframe thead th {\n",
       "        text-align: right;\n",
       "    }\n",
       "</style>\n",
       "<table border=\"1\" class=\"dataframe\">\n",
       "  <thead>\n",
       "    <tr style=\"text-align: right;\">\n",
       "      <th></th>\n",
       "      <th>MAE</th>\n",
       "      <th>MSE</th>\n",
       "      <th>MAPE</th>\n",
       "    </tr>\n",
       "  </thead>\n",
       "  <tbody>\n",
       "    <tr>\n",
       "      <th>Train</th>\n",
       "      <td>1.64</td>\n",
       "      <td>10.24</td>\n",
       "      <td>8.62</td>\n",
       "    </tr>\n",
       "    <tr>\n",
       "      <th>Test</th>\n",
       "      <td>2.95</td>\n",
       "      <td>26.95</td>\n",
       "      <td>12.50</td>\n",
       "    </tr>\n",
       "  </tbody>\n",
       "</table>\n",
       "</div>"
      ],
      "text/plain": [
       "       MAE   MSE  MAPE\n",
       "Train 1.64 10.24  8.62\n",
       "Test  2.95 26.95 12.50"
      ]
     },
     "metadata": {},
     "output_type": "display_data"
    },
    {
     "data": {
      "image/png": "[encoded data removed]",
      "text/plain": [
       "<Figure size 432x288 with 1 Axes>"
      ]
     },
     "metadata": {
      "needs_background": "light"
     },
     "output_type": "display_data"
    },
    {
     "data": {
      "text/plain": [
       "<Figure size 864x360 with 0 Axes>"
      ]
     },
     "metadata": {},
     "output_type": "display_data"
    },
    {
     "data": {
      "image/png": "[encoded data removed]",
      "text/plain": [
       "<Figure size 432x288 with 1 Axes>"
      ]
     },
     "metadata": {
      "needs_background": "light"
     },
     "output_type": "display_data"
    },
    {
     "data": {
      "image/png": "[encoded data removed]",
      "text/plain": [
       "<Figure size 432x288 with 1 Axes>"
      ]
     },
     "metadata": {
      "needs_background": "light"
     },
     "output_type": "display_data"
    },
    {
     "data": {
      "text/html": [
       "<div>\n",
       "<style scoped>\n",
       "    .dataframe tbody tr th:only-of-type {\n",
       "        vertical-align: middle;\n",
       "    }\n",
       "\n",
       "    .dataframe tbody tr th {\n",
       "        vertical-align: top;\n",
       "    }\n",
       "\n",
       "    .dataframe thead th {\n",
       "        text-align: right;\n",
       "    }\n",
       "</style>\n",
       "<table border=\"1\" class=\"dataframe\">\n",
       "  <thead>\n",
       "    <tr style=\"text-align: right;\">\n",
       "      <th></th>\n",
       "      <th>Normality</th>\n",
       "      <th>Autocorr(lag10)</th>\n",
       "      <th>Autocorr(lag50)</th>\n",
       "      <th>Heteroscedasticity</th>\n",
       "    </tr>\n",
       "  </thead>\n",
       "  <tbody>\n",
       "    <tr>\n",
       "      <th>Test Statistics</th>\n",
       "      <td>0.74</td>\n",
       "      <td>7.31</td>\n",
       "      <td>29.89</td>\n",
       "      <td>0.09</td>\n",
       "    </tr>\n",
       "    <tr>\n",
       "      <th>p-value</th>\n",
       "      <td>0.00</td>\n",
       "      <td>0.70</td>\n",
       "      <td>0.99</td>\n",
       "      <td>0.00</td>\n",
       "    </tr>\n",
       "    <tr>\n",
       "      <th>Alternative</th>\n",
       "      <td>nan</td>\n",
       "      <td>nan</td>\n",
       "      <td>nan</td>\n",
       "      <td>two-sided</td>\n",
       "    </tr>\n",
       "  </tbody>\n",
       "</table>\n",
       "</div>"
      ],
      "text/plain": [
       "                 Normality  Autocorr(lag10)  Autocorr(lag50)  \\\n",
       "Test Statistics       0.74             7.31            29.89   \n",
       "p-value               0.00             0.70             0.99   \n",
       "Alternative            nan              nan              nan   \n",
       "\n",
       "                Heteroscedasticity  \n",
       "Test Statistics               0.09  \n",
       "p-value                       0.00  \n",
       "Alternative              two-sided  "
      ]
     },
     "execution_count": 10,
     "metadata": {},
     "output_type": "execute_result"
    }
   ],
   "source": [
    "# Data Loading\n",
    "location = r'.\\Data\\BostonHousingPrice\\Price_Modify_KK.csv'\n",
    "df = pd.read_csv(location)\n",
    "\n",
    "# Preprocessing\n",
    "df = prep(df)\n",
    "\n",
    "Y_colname = ['Price']\n",
    "X_train, X_test, Y_train, Y_test = datasplit(df, Y_colname)\n",
    "\n",
    "X_train_fe = feature_engineering(X_train)\n",
    "X_test_fe = feature_engineering(X_test)\n",
    "X_train_fe, X_test_fe = col_mapping(X_train_fe, X_test_fe)   \n",
    "\n",
    "scaler = preprocessing.MinMaxScaler()\n",
    "X_train_fes, X_test_fes = scale(scaler, X_train_fe, X_test_fe)\n",
    "\n",
    "### Boosting\n",
    "# GradientBoostingRegression\n",
    "algo_gb = GradientBoostingRegressor(alpha=0.1, learning_rate=0.05, \n",
    "                                    loss='huber', criterion='friedman_mse',\n",
    "                                    n_estimators=100, random_state=123).fit(X_train_fes, Y_train)\n",
    "Y_trpred_gb = algo_gb.predict(X_train_fes).flatten()\n",
    "Y_tepred_gb = algo_gb.predict(X_test_fes).flatten()\n",
    "\n",
    "# Evaluation\n",
    "Score_gb, \\\n",
    "Resid_tr_gb, Resid_te_gb = evaluation_trte(Y_train, Y_trpred_gb,\n",
    "                                           Y_test, Y_tepred_gb, \n",
    "                                           graph_on=False)\n",
    "display(Score_gb)\n",
    "\n",
    "# Error Analysis\n",
    "error_analysis(X_test_fes, Y_tepred_gb, Resid_te_gb, graph_on=True)"
   ]
  },
  {
   "cell_type": "markdown",
   "metadata": {},
   "source": [
    "## XGBoost"
   ]
  },
  {
   "cell_type": "code",
   "execution_count": 11,
   "metadata": {
    "ExecuteTime": {
     "end_time": "2021-04-25T08:14:25.148034Z",
     "start_time": "2021-04-25T08:14:24.626431Z"
    }
   },
   "outputs": [
    {
     "name": "stdout",
     "output_type": "stream",
     "text": [
      "(404, 13) (404, 1)\n",
      "(102, 13) (102, 1)\n"
     ]
    },
    {
     "data": {
      "text/html": [
       "<div>\n",
       "<style scoped>\n",
       "    .dataframe tbody tr th:only-of-type {\n",
       "        vertical-align: middle;\n",
       "    }\n",
       "\n",
       "    .dataframe tbody tr th {\n",
       "        vertical-align: top;\n",
       "    }\n",
       "\n",
       "    .dataframe thead th {\n",
       "        text-align: right;\n",
       "    }\n",
       "</style>\n",
       "<table border=\"1\" class=\"dataframe\">\n",
       "  <thead>\n",
       "    <tr style=\"text-align: right;\">\n",
       "      <th></th>\n",
       "      <th>MAE</th>\n",
       "      <th>MSE</th>\n",
       "      <th>MAPE</th>\n",
       "    </tr>\n",
       "  </thead>\n",
       "  <tbody>\n",
       "    <tr>\n",
       "      <th>Train</th>\n",
       "      <td>0.74</td>\n",
       "      <td>0.97</td>\n",
       "      <td>3.91</td>\n",
       "    </tr>\n",
       "    <tr>\n",
       "      <th>Test</th>\n",
       "      <td>2.58</td>\n",
       "      <td>20.57</td>\n",
       "      <td>11.75</td>\n",
       "    </tr>\n",
       "  </tbody>\n",
       "</table>\n",
       "</div>"
      ],
      "text/plain": [
       "       MAE   MSE  MAPE\n",
       "Train 0.74  0.97  3.91\n",
       "Test  2.58 20.57 11.75"
      ]
     },
     "metadata": {},
     "output_type": "display_data"
    },
    {
     "data": {
      "image/png": "[encoded data removed]",
      "text/plain": [
       "<Figure size 432x288 with 1 Axes>"
      ]
     },
     "metadata": {
      "needs_background": "light"
     },
     "output_type": "display_data"
    },
    {
     "data": {
      "text/plain": [
       "<Figure size 864x360 with 0 Axes>"
      ]
     },
     "metadata": {},
     "output_type": "display_data"
    },
    {
     "data": {
      "image/png": "[encoded data removed]",
      "text/plain": [
       "<Figure size 432x288 with 1 Axes>"
      ]
     },
     "metadata": {
      "needs_background": "light"
     },
     "output_type": "display_data"
    },
    {
     "data": {
      "image/png": "[encoded data removed]",
      "text/plain": [
       "<Figure size 432x288 with 1 Axes>"
      ]
     },
     "metadata": {
      "needs_background": "light"
     },
     "output_type": "display_data"
    },
    {
     "data": {
      "text/html": [
       "<div>\n",
       "<style scoped>\n",
       "    .dataframe tbody tr th:only-of-type {\n",
       "        vertical-align: middle;\n",
       "    }\n",
       "\n",
       "    .dataframe tbody tr th {\n",
       "        vertical-align: top;\n",
       "    }\n",
       "\n",
       "    .dataframe thead th {\n",
       "        text-align: right;\n",
       "    }\n",
       "</style>\n",
       "<table border=\"1\" class=\"dataframe\">\n",
       "  <thead>\n",
       "    <tr style=\"text-align: right;\">\n",
       "      <th></th>\n",
       "      <th>Normality</th>\n",
       "      <th>Autocorr(lag10)</th>\n",
       "      <th>Autocorr(lag50)</th>\n",
       "      <th>Heteroscedasticity</th>\n",
       "    </tr>\n",
       "  </thead>\n",
       "  <tbody>\n",
       "    <tr>\n",
       "      <th>Test Statistics</th>\n",
       "      <td>0.77</td>\n",
       "      <td>13.26</td>\n",
       "      <td>54.94</td>\n",
       "      <td>0.11</td>\n",
       "    </tr>\n",
       "    <tr>\n",
       "      <th>p-value</th>\n",
       "      <td>0.00</td>\n",
       "      <td>0.21</td>\n",
       "      <td>0.29</td>\n",
       "      <td>0.00</td>\n",
       "    </tr>\n",
       "    <tr>\n",
       "      <th>Alternative</th>\n",
       "      <td>nan</td>\n",
       "      <td>nan</td>\n",
       "      <td>nan</td>\n",
       "      <td>two-sided</td>\n",
       "    </tr>\n",
       "  </tbody>\n",
       "</table>\n",
       "</div>"
      ],
      "text/plain": [
       "                 Normality  Autocorr(lag10)  Autocorr(lag50)  \\\n",
       "Test Statistics       0.77            13.26            54.94   \n",
       "p-value               0.00             0.21             0.29   \n",
       "Alternative            nan              nan              nan   \n",
       "\n",
       "                Heteroscedasticity  \n",
       "Test Statistics               0.11  \n",
       "p-value                       0.00  \n",
       "Alternative              two-sided  "
      ]
     },
     "execution_count": 11,
     "metadata": {},
     "output_type": "execute_result"
    }
   ],
   "source": [
    "# Data Loading\n",
    "location = r'.\\Data\\BostonHousingPrice\\Price_Modify_KK.csv'\n",
    "df = pd.read_csv(location)\n",
    "\n",
    "# Preprocessing\n",
    "df = prep(df)\n",
    "\n",
    "Y_colname = ['Price']\n",
    "X_train, X_test, Y_train, Y_test = datasplit(df, Y_colname)\n",
    "\n",
    "X_train_fe = feature_engineering(X_train)\n",
    "X_test_fe = feature_engineering(X_test)\n",
    "X_train_fe, X_test_fe = col_mapping(X_train_fe, X_test_fe)   \n",
    "\n",
    "scaler = preprocessing.MinMaxScaler()\n",
    "X_train_fes, X_test_fes = scale(scaler, X_train_fe, X_test_fe)\n",
    "\n",
    "### Boosting\n",
    "# XGBoost\n",
    "algo_xgb = XGBRegressor(learning_rate=0.05, n_estimators=100, random_state=123).fit(X_train_fes, Y_train)\n",
    "Y_trpred_xgb = algo_xgb.predict(X_train_fes).flatten()\n",
    "Y_tepred_xgb = algo_xgb.predict(X_test_fes).flatten()\n",
    "\n",
    "# Evaluation\n",
    "Score_xgb, \\\n",
    "Resid_tr_xgb, Resid_te_xgb = evaluation_trte(Y_train, Y_trpred_xgb,\n",
    "                                             Y_test, Y_tepred_xgb, \n",
    "                                             graph_on=False)\n",
    "display(Score_xgb)\n",
    "\n",
    "# Error Analysis\n",
    "error_analysis(X_test_fes, Y_tepred_xgb, Resid_te_xgb, graph_on=True)"
   ]
  },
  {
   "cell_type": "markdown",
   "metadata": {},
   "source": [
    "## LightGBM"
   ]
  },
  {
   "cell_type": "code",
   "execution_count": 12,
   "metadata": {
    "ExecuteTime": {
     "end_time": "2021-04-25T08:14:25.672660Z",
     "start_time": "2021-04-25T08:14:25.150028Z"
    }
   },
   "outputs": [
    {
     "name": "stdout",
     "output_type": "stream",
     "text": [
      "(404, 13) (404, 1)\n",
      "(102, 13) (102, 1)\n"
     ]
    },
    {
     "data": {
      "text/html": [
       "<div>\n",
       "<style scoped>\n",
       "    .dataframe tbody tr th:only-of-type {\n",
       "        vertical-align: middle;\n",
       "    }\n",
       "\n",
       "    .dataframe tbody tr th {\n",
       "        vertical-align: top;\n",
       "    }\n",
       "\n",
       "    .dataframe thead th {\n",
       "        text-align: right;\n",
       "    }\n",
       "</style>\n",
       "<table border=\"1\" class=\"dataframe\">\n",
       "  <thead>\n",
       "    <tr style=\"text-align: right;\">\n",
       "      <th></th>\n",
       "      <th>MAE</th>\n",
       "      <th>MSE</th>\n",
       "      <th>MAPE</th>\n",
       "    </tr>\n",
       "  </thead>\n",
       "  <tbody>\n",
       "    <tr>\n",
       "      <th>Train</th>\n",
       "      <td>1.34</td>\n",
       "      <td>4.95</td>\n",
       "      <td>7.05</td>\n",
       "    </tr>\n",
       "    <tr>\n",
       "      <th>Test</th>\n",
       "      <td>2.76</td>\n",
       "      <td>24.79</td>\n",
       "      <td>12.65</td>\n",
       "    </tr>\n",
       "  </tbody>\n",
       "</table>\n",
       "</div>"
      ],
      "text/plain": [
       "       MAE   MSE  MAPE\n",
       "Train 1.34  4.95  7.05\n",
       "Test  2.76 24.79 12.65"
      ]
     },
     "metadata": {},
     "output_type": "display_data"
    },
    {
     "data": {
      "image/png": "[encoded data removed]",
      "text/plain": [
       "<Figure size 432x288 with 1 Axes>"
      ]
     },
     "metadata": {
      "needs_background": "light"
     },
     "output_type": "display_data"
    },
    {
     "data": {
      "text/plain": [
       "<Figure size 864x360 with 0 Axes>"
      ]
     },
     "metadata": {},
     "output_type": "display_data"
    },
    {
     "data": {
      "image/png": "[encoded data removed]",
      "text/plain": [
       "<Figure size 432x288 with 1 Axes>"
      ]
     },
     "metadata": {
      "needs_background": "light"
     },
     "output_type": "display_data"
    },
    {
     "data": {
      "image/png": "[encoded data removed]",
      "text/plain": [
       "<Figure size 432x288 with 1 Axes>"
      ]
     },
     "metadata": {
      "needs_background": "light"
     },
     "output_type": "display_data"
    },
    {
     "data": {
      "text/html": [
       "<div>\n",
       "<style scoped>\n",
       "    .dataframe tbody tr th:only-of-type {\n",
       "        vertical-align: middle;\n",
       "    }\n",
       "\n",
       "    .dataframe tbody tr th {\n",
       "        vertical-align: top;\n",
       "    }\n",
       "\n",
       "    .dataframe thead th {\n",
       "        text-align: right;\n",
       "    }\n",
       "</style>\n",
       "<table border=\"1\" class=\"dataframe\">\n",
       "  <thead>\n",
       "    <tr style=\"text-align: right;\">\n",
       "      <th></th>\n",
       "      <th>Normality</th>\n",
       "      <th>Autocorr(lag10)</th>\n",
       "      <th>Autocorr(lag50)</th>\n",
       "      <th>Heteroscedasticity</th>\n",
       "    </tr>\n",
       "  </thead>\n",
       "  <tbody>\n",
       "    <tr>\n",
       "      <th>Test Statistics</th>\n",
       "      <td>0.75</td>\n",
       "      <td>12.98</td>\n",
       "      <td>50.82</td>\n",
       "      <td>0.10</td>\n",
       "    </tr>\n",
       "    <tr>\n",
       "      <th>p-value</th>\n",
       "      <td>0.00</td>\n",
       "      <td>0.22</td>\n",
       "      <td>0.44</td>\n",
       "      <td>0.00</td>\n",
       "    </tr>\n",
       "    <tr>\n",
       "      <th>Alternative</th>\n",
       "      <td>nan</td>\n",
       "      <td>nan</td>\n",
       "      <td>nan</td>\n",
       "      <td>two-sided</td>\n",
       "    </tr>\n",
       "  </tbody>\n",
       "</table>\n",
       "</div>"
      ],
      "text/plain": [
       "                 Normality  Autocorr(lag10)  Autocorr(lag50)  \\\n",
       "Test Statistics       0.75            12.98            50.82   \n",
       "p-value               0.00             0.22             0.44   \n",
       "Alternative            nan              nan              nan   \n",
       "\n",
       "                Heteroscedasticity  \n",
       "Test Statistics               0.10  \n",
       "p-value                       0.00  \n",
       "Alternative              two-sided  "
      ]
     },
     "execution_count": 12,
     "metadata": {},
     "output_type": "execute_result"
    }
   ],
   "source": [
    "# Data Loading\n",
    "location = r'.\\Data\\BostonHousingPrice\\Price_Modify_KK.csv'\n",
    "df = pd.read_csv(location)\n",
    "\n",
    "# Preprocessing\n",
    "df = prep(df)\n",
    "\n",
    "Y_colname = ['Price']\n",
    "X_train, X_test, Y_train, Y_test = datasplit(df, Y_colname)\n",
    "\n",
    "X_train_fe = feature_engineering(X_train)\n",
    "X_test_fe = feature_engineering(X_test)\n",
    "X_train_fe, X_test_fe = col_mapping(X_train_fe, X_test_fe)   \n",
    "\n",
    "scaler = preprocessing.MinMaxScaler()\n",
    "X_train_fes, X_test_fes = scale(scaler, X_train_fe, X_test_fe)\n",
    "\n",
    "### Boosting\n",
    "# LightGMB\n",
    "algo_lgbm = LGBMRegressor(learning_rate=0.05, n_estimators=100, random_state=123).fit(X_train_fes, Y_train)\n",
    "Y_trpred_lgbm = algo_lgbm.predict(X_train_fes).flatten()\n",
    "Y_tepred_lgbm = algo_lgbm.predict(X_test_fes).flatten()\n",
    "\n",
    "# Evaluation\n",
    "Score_lgbm, \\\n",
    "Resid_tr_lgbm, Resid_te_lgbm = evaluation_trte(Y_train, Y_trpred_lgbm,\n",
    "                                               Y_test, Y_tepred_lgbm, \n",
    "                                               graph_on=False)\n",
    "display(Score_lgbm)\n",
    "\n",
    "# Error Analysis\n",
    "error_analysis(X_test_fes, Y_tepred_lgbm, Resid_te_lgbm, graph_on=True)"
   ]
  },
  {
   "cell_type": "markdown",
   "metadata": {},
   "source": [
    "# Comparison: Top Algorithm"
   ]
  },
  {
   "cell_type": "code",
   "execution_count": 13,
   "metadata": {
    "ExecuteTime": {
     "end_time": "2021-04-25T08:14:25.732471Z",
     "start_time": "2021-04-25T08:14:25.674629Z"
    }
   },
   "outputs": [
    {
     "name": "stdout",
     "output_type": "stream",
     "text": [
      "Score: Linear\n"
     ]
    },
    {
     "data": {
      "text/html": [
       "<div>\n",
       "<style scoped>\n",
       "    .dataframe tbody tr th:only-of-type {\n",
       "        vertical-align: middle;\n",
       "    }\n",
       "\n",
       "    .dataframe tbody tr th {\n",
       "        vertical-align: top;\n",
       "    }\n",
       "\n",
       "    .dataframe thead th {\n",
       "        text-align: right;\n",
       "    }\n",
       "</style>\n",
       "<table border=\"1\" class=\"dataframe\">\n",
       "  <thead>\n",
       "    <tr style=\"text-align: right;\">\n",
       "      <th></th>\n",
       "      <th>MAE</th>\n",
       "      <th>MSE</th>\n",
       "      <th>MAPE</th>\n",
       "    </tr>\n",
       "  </thead>\n",
       "  <tbody>\n",
       "    <tr>\n",
       "      <th>Train</th>\n",
       "      <td>3.07</td>\n",
       "      <td>21.05</td>\n",
       "      <td>16.33</td>\n",
       "    </tr>\n",
       "    <tr>\n",
       "      <th>Test</th>\n",
       "      <td>3.51</td>\n",
       "      <td>31.34</td>\n",
       "      <td>16.76</td>\n",
       "    </tr>\n",
       "  </tbody>\n",
       "</table>\n",
       "</div>"
      ],
      "text/plain": [
       "       MAE   MSE  MAPE\n",
       "Train 3.07 21.05 16.33\n",
       "Test  3.51 31.34 16.76"
      ]
     },
     "metadata": {},
     "output_type": "display_data"
    },
    {
     "name": "stdout",
     "output_type": "stream",
     "text": [
      "Score: Regularization\n"
     ]
    },
    {
     "data": {
      "text/html": [
       "<div>\n",
       "<style scoped>\n",
       "    .dataframe tbody tr th:only-of-type {\n",
       "        vertical-align: middle;\n",
       "    }\n",
       "\n",
       "    .dataframe tbody tr th {\n",
       "        vertical-align: top;\n",
       "    }\n",
       "\n",
       "    .dataframe thead th {\n",
       "        text-align: right;\n",
       "    }\n",
       "</style>\n",
       "<table border=\"1\" class=\"dataframe\">\n",
       "  <thead>\n",
       "    <tr style=\"text-align: right;\">\n",
       "      <th></th>\n",
       "      <th>MAE</th>\n",
       "      <th>MSE</th>\n",
       "      <th>MAPE</th>\n",
       "    </tr>\n",
       "  </thead>\n",
       "  <tbody>\n",
       "    <tr>\n",
       "      <th>Train</th>\n",
       "      <td>3.05</td>\n",
       "      <td>21.26</td>\n",
       "      <td>16.13</td>\n",
       "    </tr>\n",
       "    <tr>\n",
       "      <th>Test</th>\n",
       "      <td>3.49</td>\n",
       "      <td>30.99</td>\n",
       "      <td>16.53</td>\n",
       "    </tr>\n",
       "  </tbody>\n",
       "</table>\n",
       "</div>"
      ],
      "text/plain": [
       "       MAE   MSE  MAPE\n",
       "Train 3.05 21.26 16.13\n",
       "Test  3.49 30.99 16.53"
      ]
     },
     "metadata": {},
     "output_type": "display_data"
    },
    {
     "data": {
      "text/html": [
       "<div>\n",
       "<style scoped>\n",
       "    .dataframe tbody tr th:only-of-type {\n",
       "        vertical-align: middle;\n",
       "    }\n",
       "\n",
       "    .dataframe tbody tr th {\n",
       "        vertical-align: top;\n",
       "    }\n",
       "\n",
       "    .dataframe thead th {\n",
       "        text-align: right;\n",
       "    }\n",
       "</style>\n",
       "<table border=\"1\" class=\"dataframe\">\n",
       "  <thead>\n",
       "    <tr style=\"text-align: right;\">\n",
       "      <th></th>\n",
       "      <th>MAE</th>\n",
       "      <th>MSE</th>\n",
       "      <th>MAPE</th>\n",
       "    </tr>\n",
       "  </thead>\n",
       "  <tbody>\n",
       "    <tr>\n",
       "      <th>Train</th>\n",
       "      <td>4.27</td>\n",
       "      <td>38.64</td>\n",
       "      <td>22.38</td>\n",
       "    </tr>\n",
       "    <tr>\n",
       "      <th>Test</th>\n",
       "      <td>4.65</td>\n",
       "      <td>45.53</td>\n",
       "      <td>21.33</td>\n",
       "    </tr>\n",
       "  </tbody>\n",
       "</table>\n",
       "</div>"
      ],
      "text/plain": [
       "       MAE   MSE  MAPE\n",
       "Train 4.27 38.64 22.38\n",
       "Test  4.65 45.53 21.33"
      ]
     },
     "metadata": {},
     "output_type": "display_data"
    },
    {
     "data": {
      "text/html": [
       "<div>\n",
       "<style scoped>\n",
       "    .dataframe tbody tr th:only-of-type {\n",
       "        vertical-align: middle;\n",
       "    }\n",
       "\n",
       "    .dataframe tbody tr th {\n",
       "        vertical-align: top;\n",
       "    }\n",
       "\n",
       "    .dataframe thead th {\n",
       "        text-align: right;\n",
       "    }\n",
       "</style>\n",
       "<table border=\"1\" class=\"dataframe\">\n",
       "  <thead>\n",
       "    <tr style=\"text-align: right;\">\n",
       "      <th></th>\n",
       "      <th>MAE</th>\n",
       "      <th>MSE</th>\n",
       "      <th>MAPE</th>\n",
       "    </tr>\n",
       "  </thead>\n",
       "  <tbody>\n",
       "    <tr>\n",
       "      <th>Train</th>\n",
       "      <td>3.21</td>\n",
       "      <td>23.95</td>\n",
       "      <td>16.31</td>\n",
       "    </tr>\n",
       "    <tr>\n",
       "      <th>Test</th>\n",
       "      <td>3.54</td>\n",
       "      <td>30.79</td>\n",
       "      <td>16.11</td>\n",
       "    </tr>\n",
       "  </tbody>\n",
       "</table>\n",
       "</div>"
      ],
      "text/plain": [
       "       MAE   MSE  MAPE\n",
       "Train 3.21 23.95 16.31\n",
       "Test  3.54 30.79 16.11"
      ]
     },
     "metadata": {},
     "output_type": "display_data"
    },
    {
     "name": "stdout",
     "output_type": "stream",
     "text": [
      "Score: Bagging\n"
     ]
    },
    {
     "data": {
      "text/html": [
       "<div>\n",
       "<style scoped>\n",
       "    .dataframe tbody tr th:only-of-type {\n",
       "        vertical-align: middle;\n",
       "    }\n",
       "\n",
       "    .dataframe tbody tr th {\n",
       "        vertical-align: top;\n",
       "    }\n",
       "\n",
       "    .dataframe thead th {\n",
       "        text-align: right;\n",
       "    }\n",
       "</style>\n",
       "<table border=\"1\" class=\"dataframe\">\n",
       "  <thead>\n",
       "    <tr style=\"text-align: right;\">\n",
       "      <th></th>\n",
       "      <th>MAE</th>\n",
       "      <th>MSE</th>\n",
       "      <th>MAPE</th>\n",
       "    </tr>\n",
       "  </thead>\n",
       "  <tbody>\n",
       "    <tr>\n",
       "      <th>Train</th>\n",
       "      <td>0.00</td>\n",
       "      <td>0.00</td>\n",
       "      <td>0.00</td>\n",
       "    </tr>\n",
       "    <tr>\n",
       "      <th>Test</th>\n",
       "      <td>4.24</td>\n",
       "      <td>50.78</td>\n",
       "      <td>21.12</td>\n",
       "    </tr>\n",
       "  </tbody>\n",
       "</table>\n",
       "</div>"
      ],
      "text/plain": [
       "       MAE   MSE  MAPE\n",
       "Train 0.00  0.00  0.00\n",
       "Test  4.24 50.78 21.12"
      ]
     },
     "metadata": {},
     "output_type": "display_data"
    },
    {
     "data": {
      "text/html": [
       "<div>\n",
       "<style scoped>\n",
       "    .dataframe tbody tr th:only-of-type {\n",
       "        vertical-align: middle;\n",
       "    }\n",
       "\n",
       "    .dataframe tbody tr th {\n",
       "        vertical-align: top;\n",
       "    }\n",
       "\n",
       "    .dataframe thead th {\n",
       "        text-align: right;\n",
       "    }\n",
       "</style>\n",
       "<table border=\"1\" class=\"dataframe\">\n",
       "  <thead>\n",
       "    <tr style=\"text-align: right;\">\n",
       "      <th></th>\n",
       "      <th>MAE</th>\n",
       "      <th>MSE</th>\n",
       "      <th>MAPE</th>\n",
       "    </tr>\n",
       "  </thead>\n",
       "  <tbody>\n",
       "    <tr>\n",
       "      <th>Train</th>\n",
       "      <td>0.86</td>\n",
       "      <td>1.55</td>\n",
       "      <td>4.42</td>\n",
       "    </tr>\n",
       "    <tr>\n",
       "      <th>Test</th>\n",
       "      <td>2.71</td>\n",
       "      <td>25.67</td>\n",
       "      <td>13.21</td>\n",
       "    </tr>\n",
       "  </tbody>\n",
       "</table>\n",
       "</div>"
      ],
      "text/plain": [
       "       MAE   MSE  MAPE\n",
       "Train 0.86  1.55  4.42\n",
       "Test  2.71 25.67 13.21"
      ]
     },
     "metadata": {},
     "output_type": "display_data"
    },
    {
     "name": "stdout",
     "output_type": "stream",
     "text": [
      "Score: Boosting\n"
     ]
    },
    {
     "data": {
      "text/html": [
       "<div>\n",
       "<style scoped>\n",
       "    .dataframe tbody tr th:only-of-type {\n",
       "        vertical-align: middle;\n",
       "    }\n",
       "\n",
       "    .dataframe tbody tr th {\n",
       "        vertical-align: top;\n",
       "    }\n",
       "\n",
       "    .dataframe thead th {\n",
       "        text-align: right;\n",
       "    }\n",
       "</style>\n",
       "<table border=\"1\" class=\"dataframe\">\n",
       "  <thead>\n",
       "    <tr style=\"text-align: right;\">\n",
       "      <th></th>\n",
       "      <th>MAE</th>\n",
       "      <th>MSE</th>\n",
       "      <th>MAPE</th>\n",
       "    </tr>\n",
       "  </thead>\n",
       "  <tbody>\n",
       "    <tr>\n",
       "      <th>Train</th>\n",
       "      <td>1.64</td>\n",
       "      <td>10.24</td>\n",
       "      <td>8.62</td>\n",
       "    </tr>\n",
       "    <tr>\n",
       "      <th>Test</th>\n",
       "      <td>2.95</td>\n",
       "      <td>26.95</td>\n",
       "      <td>12.50</td>\n",
       "    </tr>\n",
       "  </tbody>\n",
       "</table>\n",
       "</div>"
      ],
      "text/plain": [
       "       MAE   MSE  MAPE\n",
       "Train 1.64 10.24  8.62\n",
       "Test  2.95 26.95 12.50"
      ]
     },
     "metadata": {},
     "output_type": "display_data"
    },
    {
     "data": {
      "text/html": [
       "<div>\n",
       "<style scoped>\n",
       "    .dataframe tbody tr th:only-of-type {\n",
       "        vertical-align: middle;\n",
       "    }\n",
       "\n",
       "    .dataframe tbody tr th {\n",
       "        vertical-align: top;\n",
       "    }\n",
       "\n",
       "    .dataframe thead th {\n",
       "        text-align: right;\n",
       "    }\n",
       "</style>\n",
       "<table border=\"1\" class=\"dataframe\">\n",
       "  <thead>\n",
       "    <tr style=\"text-align: right;\">\n",
       "      <th></th>\n",
       "      <th>MAE</th>\n",
       "      <th>MSE</th>\n",
       "      <th>MAPE</th>\n",
       "    </tr>\n",
       "  </thead>\n",
       "  <tbody>\n",
       "    <tr>\n",
       "      <th>Train</th>\n",
       "      <td>0.74</td>\n",
       "      <td>0.97</td>\n",
       "      <td>3.91</td>\n",
       "    </tr>\n",
       "    <tr>\n",
       "      <th>Test</th>\n",
       "      <td>2.58</td>\n",
       "      <td>20.57</td>\n",
       "      <td>11.75</td>\n",
       "    </tr>\n",
       "  </tbody>\n",
       "</table>\n",
       "</div>"
      ],
      "text/plain": [
       "       MAE   MSE  MAPE\n",
       "Train 0.74  0.97  3.91\n",
       "Test  2.58 20.57 11.75"
      ]
     },
     "metadata": {},
     "output_type": "display_data"
    },
    {
     "data": {
      "text/html": [
       "<div>\n",
       "<style scoped>\n",
       "    .dataframe tbody tr th:only-of-type {\n",
       "        vertical-align: middle;\n",
       "    }\n",
       "\n",
       "    .dataframe tbody tr th {\n",
       "        vertical-align: top;\n",
       "    }\n",
       "\n",
       "    .dataframe thead th {\n",
       "        text-align: right;\n",
       "    }\n",
       "</style>\n",
       "<table border=\"1\" class=\"dataframe\">\n",
       "  <thead>\n",
       "    <tr style=\"text-align: right;\">\n",
       "      <th></th>\n",
       "      <th>MAE</th>\n",
       "      <th>MSE</th>\n",
       "      <th>MAPE</th>\n",
       "    </tr>\n",
       "  </thead>\n",
       "  <tbody>\n",
       "    <tr>\n",
       "      <th>Train</th>\n",
       "      <td>1.34</td>\n",
       "      <td>4.95</td>\n",
       "      <td>7.05</td>\n",
       "    </tr>\n",
       "    <tr>\n",
       "      <th>Test</th>\n",
       "      <td>2.76</td>\n",
       "      <td>24.79</td>\n",
       "      <td>12.65</td>\n",
       "    </tr>\n",
       "  </tbody>\n",
       "</table>\n",
       "</div>"
      ],
      "text/plain": [
       "       MAE   MSE  MAPE\n",
       "Train 1.34  4.95  7.05\n",
       "Test  2.76 24.79 12.65"
      ]
     },
     "metadata": {},
     "output_type": "display_data"
    }
   ],
   "source": [
    "print('Score: Linear')\n",
    "display(Score)\n",
    "print('Score: Regularization')\n",
    "display(Score_ridge, Score_lasso, Score_en)\n",
    "print('Score: Bagging')\n",
    "display(Score_dt, Score_rf)\n",
    "print('Score: Boosting')\n",
    "display(Score_gb, Score_xgb, Score_lgbm)"
   ]
  },
  {
   "cell_type": "code",
   "execution_count": null,
   "metadata": {},
   "outputs": [],
   "source": []
  }
 ],
 "metadata": {
  "hide_input": false,
  "kernelspec": {
   "display_name": "Python 3",
   "language": "python",
   "name": "python3"
  },
  "language_info": {
   "codemirror_mode": {
    "name": "ipython",
    "version": 3
   },
   "file_extension": ".py",
   "mimetype": "text/x-python",
   "name": "python",
   "nbconvert_exporter": "python",
   "pygments_lexer": "ipython3",
   "version": "3.8.5"
  },
  "toc": {
   "base_numbering": 1,
   "nav_menu": {},
   "number_sections": true,
   "sideBar": true,
   "skip_h1_title": false,
   "title_cell": "Table of Contents",
   "title_sidebar": "Contents",
   "toc_cell": false,
   "toc_position": {
    "height": "calc(100% - 180px)",
    "left": "10px",
    "top": "150px",
    "width": "407px"
   },
   "toc_section_display": true,
   "toc_window_display": true
  },
  "toc-autonumbering": true,
  "varInspector": {
   "cols": {
    "lenName": 16,
    "lenType": 16,
    "lenVar": 40
   },
   "kernels_config": {
    "python": {
     "delete_cmd_postfix": "",
     "delete_cmd_prefix": "del ",
     "library": "var_list.py",
     "varRefreshCmd": "print(var_dic_list())"
    },
    "r": {
     "delete_cmd_postfix": ") ",
     "delete_cmd_prefix": "rm(",
     "library": "var_list.r",
     "varRefreshCmd": "cat(var_dic_list()) "
    }
   },
   "types_to_exclude": [
    "module",
    "function",
    "builtin_function_or_method",
    "instance",
    "_Feature"
   ],
   "window_display": false
  }
 },
 "nbformat": 4,
 "nbformat_minor": 4
}
